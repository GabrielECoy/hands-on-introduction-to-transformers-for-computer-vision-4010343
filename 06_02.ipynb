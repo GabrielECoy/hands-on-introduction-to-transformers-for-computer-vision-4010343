{
 "cells": [
  {
   "cell_type": "markdown",
   "metadata": {},
   "source": [
    "# Evaluating ViTs\n",
    "## Chapter 6 Module 2\n",
    "In this module, we will be covering how we can perform basic evaluation on most types of ViTs. One of the great parts of FiftyOne is that once your data and model predictions are in FiftyOne, evaluation becomes easy, no matter if you are coming from different formats. Gone are the days of converting your YOLO styled predictions to COCO styled evaluation, FiftyOne handles all the conversions for you so you can focus on the task at hand.\n",
    "\n",
    "Let's take a look first at loading a common a dataset with predictions."
   ]
  },
  {
   "cell_type": "markdown",
   "metadata": {},
   "source": [
    "### Installation\n",
    "\n",
    "Here are some packages that are needed to help run some of our demo code:"
   ]
  },
  {
   "cell_type": "code",
   "execution_count": null,
   "metadata": {},
   "outputs": [
    {
     "name": "stdout",
     "output_type": "stream",
     "text": [
      "Requirement already satisfied: torch in /opt/.fiftyone-venv/lib/python3.11/site-packages (2.7.1)\n",
      "Requirement already satisfied: pycocotools in /opt/.fiftyone-venv/lib/python3.11/site-packages (2.0.8)\n",
      "Requirement already satisfied: transformers in /opt/.fiftyone-venv/lib/python3.11/site-packages (4.54.1)\n",
      "Requirement already satisfied: timm in /opt/.fiftyone-venv/lib/python3.11/site-packages (1.0.15)\n",
      "Requirement already satisfied: filelock in /opt/.fiftyone-venv/lib/python3.11/site-packages (from torch) (3.18.0)\n",
      "Requirement already satisfied: typing-extensions>=4.10.0 in /opt/.fiftyone-venv/lib/python3.11/site-packages (from torch) (4.13.2)\n",
      "Requirement already satisfied: sympy>=1.13.3 in /opt/.fiftyone-venv/lib/python3.11/site-packages (from torch) (1.14.0)\n",
      "Requirement already satisfied: networkx in /opt/.fiftyone-venv/lib/python3.11/site-packages (from torch) (3.4.2)\n",
      "Requirement already satisfied: jinja2 in /opt/.fiftyone-venv/lib/python3.11/site-packages (from torch) (3.1.6)\n",
      "Requirement already satisfied: fsspec in /opt/.fiftyone-venv/lib/python3.11/site-packages (from torch) (2025.3.0)\n",
      "Requirement already satisfied: nvidia-cuda-nvrtc-cu12==12.6.77 in /opt/.fiftyone-venv/lib/python3.11/site-packages (from torch) (12.6.77)\n",
      "Requirement already satisfied: nvidia-cuda-runtime-cu12==12.6.77 in /opt/.fiftyone-venv/lib/python3.11/site-packages (from torch) (12.6.77)\n",
      "Requirement already satisfied: nvidia-cuda-cupti-cu12==12.6.80 in /opt/.fiftyone-venv/lib/python3.11/site-packages (from torch) (12.6.80)\n",
      "Requirement already satisfied: nvidia-cudnn-cu12==9.5.1.17 in /opt/.fiftyone-venv/lib/python3.11/site-packages (from torch) (9.5.1.17)\n",
      "Requirement already satisfied: nvidia-cublas-cu12==12.6.4.1 in /opt/.fiftyone-venv/lib/python3.11/site-packages (from torch) (12.6.4.1)\n",
      "Requirement already satisfied: nvidia-cufft-cu12==11.3.0.4 in /opt/.fiftyone-venv/lib/python3.11/site-packages (from torch) (11.3.0.4)\n",
      "Requirement already satisfied: nvidia-curand-cu12==10.3.7.77 in /opt/.fiftyone-venv/lib/python3.11/site-packages (from torch) (10.3.7.77)\n",
      "Requirement already satisfied: nvidia-cusolver-cu12==11.7.1.2 in /opt/.fiftyone-venv/lib/python3.11/site-packages (from torch) (11.7.1.2)\n",
      "Requirement already satisfied: nvidia-cusparse-cu12==12.5.4.2 in /opt/.fiftyone-venv/lib/python3.11/site-packages (from torch) (12.5.4.2)\n",
      "Requirement already satisfied: nvidia-cusparselt-cu12==0.6.3 in /opt/.fiftyone-venv/lib/python3.11/site-packages (from torch) (0.6.3)\n",
      "Requirement already satisfied: nvidia-nccl-cu12==2.26.2 in /opt/.fiftyone-venv/lib/python3.11/site-packages (from torch) (2.26.2)\n",
      "Requirement already satisfied: nvidia-nvtx-cu12==12.6.77 in /opt/.fiftyone-venv/lib/python3.11/site-packages (from torch) (12.6.77)\n",
      "Requirement already satisfied: nvidia-nvjitlink-cu12==12.6.85 in /opt/.fiftyone-venv/lib/python3.11/site-packages (from torch) (12.6.85)\n",
      "Requirement already satisfied: nvidia-cufile-cu12==1.11.1.6 in /opt/.fiftyone-venv/lib/python3.11/site-packages (from torch) (1.11.1.6)\n",
      "Requirement already satisfied: triton==3.3.1 in /opt/.fiftyone-venv/lib/python3.11/site-packages (from torch) (3.3.1)\n",
      "Requirement already satisfied: setuptools>=40.8.0 in /opt/.fiftyone-venv/lib/python3.11/site-packages (from triton==3.3.1->torch) (80.3.1)\n",
      "Requirement already satisfied: matplotlib>=2.1.0 in /opt/.fiftyone-venv/lib/python3.11/site-packages (from pycocotools) (3.10.3)\n",
      "Requirement already satisfied: numpy in /opt/.fiftyone-venv/lib/python3.11/site-packages (from pycocotools) (2.2.5)\n",
      "Requirement already satisfied: huggingface-hub<1.0,>=0.34.0 in /opt/.fiftyone-venv/lib/python3.11/site-packages (from transformers) (0.34.3)\n",
      "Requirement already satisfied: packaging>=20.0 in /opt/.fiftyone-venv/lib/python3.11/site-packages (from transformers) (25.0)\n",
      "Requirement already satisfied: pyyaml>=5.1 in /opt/.fiftyone-venv/lib/python3.11/site-packages (from transformers) (6.0.2)\n",
      "Requirement already satisfied: regex!=2019.12.17 in /opt/.fiftyone-venv/lib/python3.11/site-packages (from transformers) (2024.11.6)\n",
      "Requirement already satisfied: requests in /opt/.fiftyone-venv/lib/python3.11/site-packages (from transformers) (2.32.3)\n",
      "Requirement already satisfied: tokenizers<0.22,>=0.21 in /opt/.fiftyone-venv/lib/python3.11/site-packages (from transformers) (0.21.1)\n",
      "Requirement already satisfied: safetensors>=0.4.3 in /opt/.fiftyone-venv/lib/python3.11/site-packages (from transformers) (0.5.3)\n",
      "Requirement already satisfied: tqdm>=4.27 in /opt/.fiftyone-venv/lib/python3.11/site-packages (from transformers) (4.67.1)\n",
      "Requirement already satisfied: hf-xet<2.0.0,>=1.1.3 in /opt/.fiftyone-venv/lib/python3.11/site-packages (from huggingface-hub<1.0,>=0.34.0->transformers) (1.1.5)\n",
      "Requirement already satisfied: torchvision in /opt/.fiftyone-venv/lib/python3.11/site-packages (from timm) (0.22.1)\n",
      "Requirement already satisfied: contourpy>=1.0.1 in /opt/.fiftyone-venv/lib/python3.11/site-packages (from matplotlib>=2.1.0->pycocotools) (1.3.2)\n",
      "Requirement already satisfied: cycler>=0.10 in /opt/.fiftyone-venv/lib/python3.11/site-packages (from matplotlib>=2.1.0->pycocotools) (0.12.1)\n",
      "Requirement already satisfied: fonttools>=4.22.0 in /opt/.fiftyone-venv/lib/python3.11/site-packages (from matplotlib>=2.1.0->pycocotools) (4.57.0)\n",
      "Requirement already satisfied: kiwisolver>=1.3.1 in /opt/.fiftyone-venv/lib/python3.11/site-packages (from matplotlib>=2.1.0->pycocotools) (1.4.8)\n",
      "Requirement already satisfied: pillow>=8 in /opt/.fiftyone-venv/lib/python3.11/site-packages (from matplotlib>=2.1.0->pycocotools) (11.2.1)\n",
      "Requirement already satisfied: pyparsing>=2.3.1 in /opt/.fiftyone-venv/lib/python3.11/site-packages (from matplotlib>=2.1.0->pycocotools) (3.2.3)\n",
      "Requirement already satisfied: python-dateutil>=2.7 in /opt/.fiftyone-venv/lib/python3.11/site-packages (from matplotlib>=2.1.0->pycocotools) (2.9.0.post0)\n",
      "Requirement already satisfied: six>=1.5 in /opt/.fiftyone-venv/lib/python3.11/site-packages (from python-dateutil>=2.7->matplotlib>=2.1.0->pycocotools) (1.17.0)\n",
      "Requirement already satisfied: mpmath<1.4,>=1.1.0 in /opt/.fiftyone-venv/lib/python3.11/site-packages (from sympy>=1.13.3->torch) (1.3.0)\n",
      "Requirement already satisfied: MarkupSafe>=2.0 in /opt/.fiftyone-venv/lib/python3.11/site-packages (from jinja2->torch) (3.0.2)\n",
      "Requirement already satisfied: charset-normalizer<4,>=2 in /opt/.fiftyone-venv/lib/python3.11/site-packages (from requests->transformers) (3.4.2)\n",
      "Requirement already satisfied: idna<4,>=2.5 in /opt/.fiftyone-venv/lib/python3.11/site-packages (from requests->transformers) (3.10)\n",
      "Requirement already satisfied: urllib3<3,>=1.21.1 in /opt/.fiftyone-venv/lib/python3.11/site-packages (from requests->transformers) (2.4.0)\n",
      "Requirement already satisfied: certifi>=2017.4.17 in /opt/.fiftyone-venv/lib/python3.11/site-packages (from requests->transformers) (2025.4.26)\n"
     ]
    }
   ],
   "source": [
    "pip install torch  pycocotools transformers timm"
   ]
  },
  {
   "cell_type": "markdown",
   "metadata": {},
   "source": [
    "## Loading a Zoo Dataset for Evaluation\n",
    "We will be loading the [`quickstart`](https://docs.voxel51.com/dataset_zoo/datasets.html#quickstart) dataset from the [Dataset Zoo](https://docs.voxel51.com/dataset_zoo/index.html). This dataset is a slice of MSCOCO and contains some preloaded predictions. If you are unsure how to load your own detection dataset, be sure to checkout our Getting Started with Detections [LINK]\n",
    "\n",
    "Once our dataset is loaded, we can start getting ready for model eval!"
   ]
  },
  {
   "cell_type": "code",
   "execution_count": 3,
   "metadata": {},
   "outputs": [
    {
     "name": "stderr",
     "output_type": "stream",
     "text": [
      "/opt/.fiftyone-venv/lib/python3.11/site-packages/tqdm/auto.py:21: TqdmWarning: IProgress not found. Please update jupyter and ipywidgets. See https://ipywidgets.readthedocs.io/en/stable/user_install.html\n",
      "  from .autonotebook import tqdm as notebook_tqdm\n"
     ]
    },
    {
     "name": "stdout",
     "output_type": "stream",
     "text": [
      "Downloading split 'validation' to '/fiftyone/zoo/datasets/coco-2017/validation' if necessary\n",
      "Downloading annotations to '/fiftyone/zoo/datasets/coco-2017/tmp-download/annotations_trainval2017.zip'\n",
      " 100% |██████|    1.9Gb/1.9Gb [3.4s elapsed, 0s remaining, 480.0Mb/s]      \n",
      "Extracting annotations to '/fiftyone/zoo/datasets/coco-2017/raw/instances_val2017.json'\n",
      "Downloading 25 images\n",
      " 100% |████████████████████| 25/25 [1.6s elapsed, 0s remaining, 17.7 images/s]         \n",
      "Writing annotations for 25 downloaded samples to '/fiftyone/zoo/datasets/coco-2017/validation/labels.json'\n",
      "Dataset info written to '/fiftyone/zoo/datasets/coco-2017/info.json'\n",
      "Loading 'coco-2017' split 'validation'\n",
      " 100% |███████████████████| 25/25 [138.2ms elapsed, 0s remaining, 180.9 samples/s] \n",
      "Dataset 'coco-2017-validation-25' created\n",
      "Name:        coco-2017-validation-25\n",
      "Media type:  image\n",
      "Num samples: 25\n",
      "Persistent:  False\n",
      "Tags:        []\n",
      "Sample fields:\n",
      "    id:               fiftyone.core.fields.ObjectIdField\n",
      "    filepath:         fiftyone.core.fields.StringField\n",
      "    tags:             fiftyone.core.fields.ListField(fiftyone.core.fields.StringField)\n",
      "    metadata:         fiftyone.core.fields.EmbeddedDocumentField(fiftyone.core.metadata.ImageMetadata)\n",
      "    created_at:       fiftyone.core.fields.DateTimeField\n",
      "    last_modified_at: fiftyone.core.fields.DateTimeField\n",
      "    ground_truth:     fiftyone.core.fields.EmbeddedDocumentField(fiftyone.core.labels.Detections)\n"
     ]
    }
   ],
   "source": [
    "import fiftyone as fo\n",
    "import fiftyone.zoo as foz\n",
    "\n",
    "dataset = foz.load_zoo_dataset(\n",
    "    \"coco-2017\",\n",
    "    split=\"validation\",\n",
    "    max_samples=25,\n",
    ")\n",
    "\n",
    "\n",
    "# View summary info about the dataset\n",
    "print(dataset)"
   ]
  },
  {
   "cell_type": "markdown",
   "metadata": {},
   "source": [
    "Before we go further, let’s launch the [FiftyOne App](https://docs.voxel51.com/user_guide/app.html) and use the GUI to explore the dataset visually:"
   ]
  },
  {
   "cell_type": "code",
   "execution_count": 5,
   "metadata": {},
   "outputs": [
    {
     "data": {
      "text/html": [
       "\n",
       "        <iframe\n",
       "            width=\"100%\"\n",
       "            height=\"800\"\n",
       "            src=\"http://0.0.0.0:5151/?notebook=True&subscription=b4ec191f-efab-4c56-9c6c-7eeb289aaa7d&polling=true\"\n",
       "            frameborder=\"0\"\n",
       "            allowfullscreen\n",
       "            \n",
       "        ></iframe>\n",
       "        "
      ],
      "text/plain": [
       "<IPython.lib.display.IFrame at 0x7ae025280490>"
      ]
     },
     "metadata": {},
     "output_type": "display_data"
    }
   ],
   "source": [
    "session = fo.launch_app(dataset)"
   ]
  },
  {
   "cell_type": "markdown",
   "metadata": {},
   "source": [
    "## Evaluate Detections\n",
    "\n",
    "Now that we have samples with ground truth and predicted objects, let’s use FiftyOne to evaluate the quality of the detections.\n",
    "\n",
    "FiftyOne provides a powerful [evaluation API](https://docs.voxel51.com/user_guide/evaluation.html) that contains a collection of methods for performing evaluation of model predictions. Since we’re working with object detections here, we’ll use [detection evaluation](https://docs.voxel51.com/user_guide/evaluation.html#detections).\n",
    "\n",
    "We can run evaluation on our samples via [`evaluate_detections()`](https://docs.voxel51.com/api/fiftyone.core.collections.html#fiftyone.core.collections.SampleCollection.evaluate_detections). Note that this method is available on both the `Dataset` and `DatasetView` classes, which means that we can run evaluation on subsets of our dataset as well.\n",
    "\n",
    "By default, this method will use the COCO evaluation protocol, plus some extra goodies that we will use later."
   ]
  },
  {
   "cell_type": "code",
   "execution_count": 6,
   "metadata": {},
   "outputs": [
    {
     "name": "stderr",
     "output_type": "stream",
     "text": [
      "/opt/.fiftyone-venv/lib/python3.11/site-packages/torch/nn/modules/module.py:2409: UserWarning: for conv1.weight: copying from a non-meta parameter in the checkpoint to a meta parameter in the current model, which is a no-op. (Did you mean to pass `assign=True` to assign items in the state dictionary to their corresponding key in the module instead of copying them in place?)\n",
      "  warnings.warn(\n",
      "/opt/.fiftyone-venv/lib/python3.11/site-packages/torch/nn/modules/module.py:2409: UserWarning: for bn1.weight: copying from a non-meta parameter in the checkpoint to a meta parameter in the current model, which is a no-op. (Did you mean to pass `assign=True` to assign items in the state dictionary to their corresponding key in the module instead of copying them in place?)\n",
      "  warnings.warn(\n",
      "/opt/.fiftyone-venv/lib/python3.11/site-packages/torch/nn/modules/module.py:2409: UserWarning: for bn1.bias: copying from a non-meta parameter in the checkpoint to a meta parameter in the current model, which is a no-op. (Did you mean to pass `assign=True` to assign items in the state dictionary to their corresponding key in the module instead of copying them in place?)\n",
      "  warnings.warn(\n",
      "/opt/.fiftyone-venv/lib/python3.11/site-packages/torch/nn/modules/module.py:2409: UserWarning: for layer1.0.conv1.weight: copying from a non-meta parameter in the checkpoint to a meta parameter in the current model, which is a no-op. (Did you mean to pass `assign=True` to assign items in the state dictionary to their corresponding key in the module instead of copying them in place?)\n",
      "  warnings.warn(\n",
      "/opt/.fiftyone-venv/lib/python3.11/site-packages/torch/nn/modules/module.py:2409: UserWarning: for layer1.0.bn1.weight: copying from a non-meta parameter in the checkpoint to a meta parameter in the current model, which is a no-op. (Did you mean to pass `assign=True` to assign items in the state dictionary to their corresponding key in the module instead of copying them in place?)\n",
      "  warnings.warn(\n",
      "/opt/.fiftyone-venv/lib/python3.11/site-packages/torch/nn/modules/module.py:2409: UserWarning: for layer1.0.bn1.bias: copying from a non-meta parameter in the checkpoint to a meta parameter in the current model, which is a no-op. (Did you mean to pass `assign=True` to assign items in the state dictionary to their corresponding key in the module instead of copying them in place?)\n",
      "  warnings.warn(\n",
      "/opt/.fiftyone-venv/lib/python3.11/site-packages/torch/nn/modules/module.py:2409: UserWarning: for layer1.0.conv2.weight: copying from a non-meta parameter in the checkpoint to a meta parameter in the current model, which is a no-op. (Did you mean to pass `assign=True` to assign items in the state dictionary to their corresponding key in the module instead of copying them in place?)\n",
      "  warnings.warn(\n",
      "/opt/.fiftyone-venv/lib/python3.11/site-packages/torch/nn/modules/module.py:2409: UserWarning: for layer1.0.bn2.weight: copying from a non-meta parameter in the checkpoint to a meta parameter in the current model, which is a no-op. (Did you mean to pass `assign=True` to assign items in the state dictionary to their corresponding key in the module instead of copying them in place?)\n",
      "  warnings.warn(\n",
      "/opt/.fiftyone-venv/lib/python3.11/site-packages/torch/nn/modules/module.py:2409: UserWarning: for layer1.0.bn2.bias: copying from a non-meta parameter in the checkpoint to a meta parameter in the current model, which is a no-op. (Did you mean to pass `assign=True` to assign items in the state dictionary to their corresponding key in the module instead of copying them in place?)\n",
      "  warnings.warn(\n",
      "/opt/.fiftyone-venv/lib/python3.11/site-packages/torch/nn/modules/module.py:2409: UserWarning: for layer1.0.conv3.weight: copying from a non-meta parameter in the checkpoint to a meta parameter in the current model, which is a no-op. (Did you mean to pass `assign=True` to assign items in the state dictionary to their corresponding key in the module instead of copying them in place?)\n",
      "  warnings.warn(\n",
      "/opt/.fiftyone-venv/lib/python3.11/site-packages/torch/nn/modules/module.py:2409: UserWarning: for layer1.0.bn3.weight: copying from a non-meta parameter in the checkpoint to a meta parameter in the current model, which is a no-op. (Did you mean to pass `assign=True` to assign items in the state dictionary to their corresponding key in the module instead of copying them in place?)\n",
      "  warnings.warn(\n",
      "/opt/.fiftyone-venv/lib/python3.11/site-packages/torch/nn/modules/module.py:2409: UserWarning: for layer1.0.bn3.bias: copying from a non-meta parameter in the checkpoint to a meta parameter in the current model, which is a no-op. (Did you mean to pass `assign=True` to assign items in the state dictionary to their corresponding key in the module instead of copying them in place?)\n",
      "  warnings.warn(\n",
      "/opt/.fiftyone-venv/lib/python3.11/site-packages/torch/nn/modules/module.py:2409: UserWarning: for layer1.0.downsample.0.weight: copying from a non-meta parameter in the checkpoint to a meta parameter in the current model, which is a no-op. (Did you mean to pass `assign=True` to assign items in the state dictionary to their corresponding key in the module instead of copying them in place?)\n",
      "  warnings.warn(\n",
      "/opt/.fiftyone-venv/lib/python3.11/site-packages/torch/nn/modules/module.py:2409: UserWarning: for layer1.0.downsample.1.weight: copying from a non-meta parameter in the checkpoint to a meta parameter in the current model, which is a no-op. (Did you mean to pass `assign=True` to assign items in the state dictionary to their corresponding key in the module instead of copying them in place?)\n",
      "  warnings.warn(\n",
      "/opt/.fiftyone-venv/lib/python3.11/site-packages/torch/nn/modules/module.py:2409: UserWarning: for layer1.0.downsample.1.bias: copying from a non-meta parameter in the checkpoint to a meta parameter in the current model, which is a no-op. (Did you mean to pass `assign=True` to assign items in the state dictionary to their corresponding key in the module instead of copying them in place?)\n",
      "  warnings.warn(\n",
      "/opt/.fiftyone-venv/lib/python3.11/site-packages/torch/nn/modules/module.py:2409: UserWarning: for layer1.1.conv1.weight: copying from a non-meta parameter in the checkpoint to a meta parameter in the current model, which is a no-op. (Did you mean to pass `assign=True` to assign items in the state dictionary to their corresponding key in the module instead of copying them in place?)\n",
      "  warnings.warn(\n",
      "/opt/.fiftyone-venv/lib/python3.11/site-packages/torch/nn/modules/module.py:2409: UserWarning: for layer1.1.bn1.weight: copying from a non-meta parameter in the checkpoint to a meta parameter in the current model, which is a no-op. (Did you mean to pass `assign=True` to assign items in the state dictionary to their corresponding key in the module instead of copying them in place?)\n",
      "  warnings.warn(\n",
      "/opt/.fiftyone-venv/lib/python3.11/site-packages/torch/nn/modules/module.py:2409: UserWarning: for layer1.1.bn1.bias: copying from a non-meta parameter in the checkpoint to a meta parameter in the current model, which is a no-op. (Did you mean to pass `assign=True` to assign items in the state dictionary to their corresponding key in the module instead of copying them in place?)\n",
      "  warnings.warn(\n",
      "/opt/.fiftyone-venv/lib/python3.11/site-packages/torch/nn/modules/module.py:2409: UserWarning: for layer1.1.conv2.weight: copying from a non-meta parameter in the checkpoint to a meta parameter in the current model, which is a no-op. (Did you mean to pass `assign=True` to assign items in the state dictionary to their corresponding key in the module instead of copying them in place?)\n",
      "  warnings.warn(\n",
      "/opt/.fiftyone-venv/lib/python3.11/site-packages/torch/nn/modules/module.py:2409: UserWarning: for layer1.1.bn2.weight: copying from a non-meta parameter in the checkpoint to a meta parameter in the current model, which is a no-op. (Did you mean to pass `assign=True` to assign items in the state dictionary to their corresponding key in the module instead of copying them in place?)\n",
      "  warnings.warn(\n",
      "/opt/.fiftyone-venv/lib/python3.11/site-packages/torch/nn/modules/module.py:2409: UserWarning: for layer1.1.bn2.bias: copying from a non-meta parameter in the checkpoint to a meta parameter in the current model, which is a no-op. (Did you mean to pass `assign=True` to assign items in the state dictionary to their corresponding key in the module instead of copying them in place?)\n",
      "  warnings.warn(\n",
      "/opt/.fiftyone-venv/lib/python3.11/site-packages/torch/nn/modules/module.py:2409: UserWarning: for layer1.1.conv3.weight: copying from a non-meta parameter in the checkpoint to a meta parameter in the current model, which is a no-op. (Did you mean to pass `assign=True` to assign items in the state dictionary to their corresponding key in the module instead of copying them in place?)\n",
      "  warnings.warn(\n",
      "/opt/.fiftyone-venv/lib/python3.11/site-packages/torch/nn/modules/module.py:2409: UserWarning: for layer1.1.bn3.weight: copying from a non-meta parameter in the checkpoint to a meta parameter in the current model, which is a no-op. (Did you mean to pass `assign=True` to assign items in the state dictionary to their corresponding key in the module instead of copying them in place?)\n",
      "  warnings.warn(\n",
      "/opt/.fiftyone-venv/lib/python3.11/site-packages/torch/nn/modules/module.py:2409: UserWarning: for layer1.1.bn3.bias: copying from a non-meta parameter in the checkpoint to a meta parameter in the current model, which is a no-op. (Did you mean to pass `assign=True` to assign items in the state dictionary to their corresponding key in the module instead of copying them in place?)\n",
      "  warnings.warn(\n",
      "/opt/.fiftyone-venv/lib/python3.11/site-packages/torch/nn/modules/module.py:2409: UserWarning: for layer1.2.conv1.weight: copying from a non-meta parameter in the checkpoint to a meta parameter in the current model, which is a no-op. (Did you mean to pass `assign=True` to assign items in the state dictionary to their corresponding key in the module instead of copying them in place?)\n",
      "  warnings.warn(\n",
      "/opt/.fiftyone-venv/lib/python3.11/site-packages/torch/nn/modules/module.py:2409: UserWarning: for layer1.2.bn1.weight: copying from a non-meta parameter in the checkpoint to a meta parameter in the current model, which is a no-op. (Did you mean to pass `assign=True` to assign items in the state dictionary to their corresponding key in the module instead of copying them in place?)\n",
      "  warnings.warn(\n",
      "/opt/.fiftyone-venv/lib/python3.11/site-packages/torch/nn/modules/module.py:2409: UserWarning: for layer1.2.bn1.bias: copying from a non-meta parameter in the checkpoint to a meta parameter in the current model, which is a no-op. (Did you mean to pass `assign=True` to assign items in the state dictionary to their corresponding key in the module instead of copying them in place?)\n",
      "  warnings.warn(\n",
      "/opt/.fiftyone-venv/lib/python3.11/site-packages/torch/nn/modules/module.py:2409: UserWarning: for layer1.2.conv2.weight: copying from a non-meta parameter in the checkpoint to a meta parameter in the current model, which is a no-op. (Did you mean to pass `assign=True` to assign items in the state dictionary to their corresponding key in the module instead of copying them in place?)\n",
      "  warnings.warn(\n",
      "/opt/.fiftyone-venv/lib/python3.11/site-packages/torch/nn/modules/module.py:2409: UserWarning: for layer1.2.bn2.weight: copying from a non-meta parameter in the checkpoint to a meta parameter in the current model, which is a no-op. (Did you mean to pass `assign=True` to assign items in the state dictionary to their corresponding key in the module instead of copying them in place?)\n",
      "  warnings.warn(\n",
      "/opt/.fiftyone-venv/lib/python3.11/site-packages/torch/nn/modules/module.py:2409: UserWarning: for layer1.2.bn2.bias: copying from a non-meta parameter in the checkpoint to a meta parameter in the current model, which is a no-op. (Did you mean to pass `assign=True` to assign items in the state dictionary to their corresponding key in the module instead of copying them in place?)\n",
      "  warnings.warn(\n",
      "/opt/.fiftyone-venv/lib/python3.11/site-packages/torch/nn/modules/module.py:2409: UserWarning: for layer1.2.conv3.weight: copying from a non-meta parameter in the checkpoint to a meta parameter in the current model, which is a no-op. (Did you mean to pass `assign=True` to assign items in the state dictionary to their corresponding key in the module instead of copying them in place?)\n",
      "  warnings.warn(\n",
      "/opt/.fiftyone-venv/lib/python3.11/site-packages/torch/nn/modules/module.py:2409: UserWarning: for layer1.2.bn3.weight: copying from a non-meta parameter in the checkpoint to a meta parameter in the current model, which is a no-op. (Did you mean to pass `assign=True` to assign items in the state dictionary to their corresponding key in the module instead of copying them in place?)\n",
      "  warnings.warn(\n",
      "/opt/.fiftyone-venv/lib/python3.11/site-packages/torch/nn/modules/module.py:2409: UserWarning: for layer1.2.bn3.bias: copying from a non-meta parameter in the checkpoint to a meta parameter in the current model, which is a no-op. (Did you mean to pass `assign=True` to assign items in the state dictionary to their corresponding key in the module instead of copying them in place?)\n",
      "  warnings.warn(\n",
      "/opt/.fiftyone-venv/lib/python3.11/site-packages/torch/nn/modules/module.py:2409: UserWarning: for layer2.0.conv1.weight: copying from a non-meta parameter in the checkpoint to a meta parameter in the current model, which is a no-op. (Did you mean to pass `assign=True` to assign items in the state dictionary to their corresponding key in the module instead of copying them in place?)\n",
      "  warnings.warn(\n",
      "/opt/.fiftyone-venv/lib/python3.11/site-packages/torch/nn/modules/module.py:2409: UserWarning: for layer2.0.bn1.weight: copying from a non-meta parameter in the checkpoint to a meta parameter in the current model, which is a no-op. (Did you mean to pass `assign=True` to assign items in the state dictionary to their corresponding key in the module instead of copying them in place?)\n",
      "  warnings.warn(\n",
      "/opt/.fiftyone-venv/lib/python3.11/site-packages/torch/nn/modules/module.py:2409: UserWarning: for layer2.0.bn1.bias: copying from a non-meta parameter in the checkpoint to a meta parameter in the current model, which is a no-op. (Did you mean to pass `assign=True` to assign items in the state dictionary to their corresponding key in the module instead of copying them in place?)\n",
      "  warnings.warn(\n",
      "/opt/.fiftyone-venv/lib/python3.11/site-packages/torch/nn/modules/module.py:2409: UserWarning: for layer2.0.conv2.weight: copying from a non-meta parameter in the checkpoint to a meta parameter in the current model, which is a no-op. (Did you mean to pass `assign=True` to assign items in the state dictionary to their corresponding key in the module instead of copying them in place?)\n",
      "  warnings.warn(\n",
      "/opt/.fiftyone-venv/lib/python3.11/site-packages/torch/nn/modules/module.py:2409: UserWarning: for layer2.0.bn2.weight: copying from a non-meta parameter in the checkpoint to a meta parameter in the current model, which is a no-op. (Did you mean to pass `assign=True` to assign items in the state dictionary to their corresponding key in the module instead of copying them in place?)\n",
      "  warnings.warn(\n",
      "/opt/.fiftyone-venv/lib/python3.11/site-packages/torch/nn/modules/module.py:2409: UserWarning: for layer2.0.bn2.bias: copying from a non-meta parameter in the checkpoint to a meta parameter in the current model, which is a no-op. (Did you mean to pass `assign=True` to assign items in the state dictionary to their corresponding key in the module instead of copying them in place?)\n",
      "  warnings.warn(\n",
      "/opt/.fiftyone-venv/lib/python3.11/site-packages/torch/nn/modules/module.py:2409: UserWarning: for layer2.0.conv3.weight: copying from a non-meta parameter in the checkpoint to a meta parameter in the current model, which is a no-op. (Did you mean to pass `assign=True` to assign items in the state dictionary to their corresponding key in the module instead of copying them in place?)\n",
      "  warnings.warn(\n",
      "/opt/.fiftyone-venv/lib/python3.11/site-packages/torch/nn/modules/module.py:2409: UserWarning: for layer2.0.bn3.weight: copying from a non-meta parameter in the checkpoint to a meta parameter in the current model, which is a no-op. (Did you mean to pass `assign=True` to assign items in the state dictionary to their corresponding key in the module instead of copying them in place?)\n",
      "  warnings.warn(\n",
      "/opt/.fiftyone-venv/lib/python3.11/site-packages/torch/nn/modules/module.py:2409: UserWarning: for layer2.0.bn3.bias: copying from a non-meta parameter in the checkpoint to a meta parameter in the current model, which is a no-op. (Did you mean to pass `assign=True` to assign items in the state dictionary to their corresponding key in the module instead of copying them in place?)\n",
      "  warnings.warn(\n",
      "/opt/.fiftyone-venv/lib/python3.11/site-packages/torch/nn/modules/module.py:2409: UserWarning: for layer2.0.downsample.0.weight: copying from a non-meta parameter in the checkpoint to a meta parameter in the current model, which is a no-op. (Did you mean to pass `assign=True` to assign items in the state dictionary to their corresponding key in the module instead of copying them in place?)\n",
      "  warnings.warn(\n",
      "/opt/.fiftyone-venv/lib/python3.11/site-packages/torch/nn/modules/module.py:2409: UserWarning: for layer2.0.downsample.1.weight: copying from a non-meta parameter in the checkpoint to a meta parameter in the current model, which is a no-op. (Did you mean to pass `assign=True` to assign items in the state dictionary to their corresponding key in the module instead of copying them in place?)\n",
      "  warnings.warn(\n",
      "/opt/.fiftyone-venv/lib/python3.11/site-packages/torch/nn/modules/module.py:2409: UserWarning: for layer2.0.downsample.1.bias: copying from a non-meta parameter in the checkpoint to a meta parameter in the current model, which is a no-op. (Did you mean to pass `assign=True` to assign items in the state dictionary to their corresponding key in the module instead of copying them in place?)\n",
      "  warnings.warn(\n",
      "/opt/.fiftyone-venv/lib/python3.11/site-packages/torch/nn/modules/module.py:2409: UserWarning: for layer2.1.conv1.weight: copying from a non-meta parameter in the checkpoint to a meta parameter in the current model, which is a no-op. (Did you mean to pass `assign=True` to assign items in the state dictionary to their corresponding key in the module instead of copying them in place?)\n",
      "  warnings.warn(\n",
      "/opt/.fiftyone-venv/lib/python3.11/site-packages/torch/nn/modules/module.py:2409: UserWarning: for layer2.1.bn1.weight: copying from a non-meta parameter in the checkpoint to a meta parameter in the current model, which is a no-op. (Did you mean to pass `assign=True` to assign items in the state dictionary to their corresponding key in the module instead of copying them in place?)\n",
      "  warnings.warn(\n",
      "/opt/.fiftyone-venv/lib/python3.11/site-packages/torch/nn/modules/module.py:2409: UserWarning: for layer2.1.bn1.bias: copying from a non-meta parameter in the checkpoint to a meta parameter in the current model, which is a no-op. (Did you mean to pass `assign=True` to assign items in the state dictionary to their corresponding key in the module instead of copying them in place?)\n",
      "  warnings.warn(\n",
      "/opt/.fiftyone-venv/lib/python3.11/site-packages/torch/nn/modules/module.py:2409: UserWarning: for layer2.1.conv2.weight: copying from a non-meta parameter in the checkpoint to a meta parameter in the current model, which is a no-op. (Did you mean to pass `assign=True` to assign items in the state dictionary to their corresponding key in the module instead of copying them in place?)\n",
      "  warnings.warn(\n",
      "/opt/.fiftyone-venv/lib/python3.11/site-packages/torch/nn/modules/module.py:2409: UserWarning: for layer2.1.bn2.weight: copying from a non-meta parameter in the checkpoint to a meta parameter in the current model, which is a no-op. (Did you mean to pass `assign=True` to assign items in the state dictionary to their corresponding key in the module instead of copying them in place?)\n",
      "  warnings.warn(\n",
      "/opt/.fiftyone-venv/lib/python3.11/site-packages/torch/nn/modules/module.py:2409: UserWarning: for layer2.1.bn2.bias: copying from a non-meta parameter in the checkpoint to a meta parameter in the current model, which is a no-op. (Did you mean to pass `assign=True` to assign items in the state dictionary to their corresponding key in the module instead of copying them in place?)\n",
      "  warnings.warn(\n",
      "/opt/.fiftyone-venv/lib/python3.11/site-packages/torch/nn/modules/module.py:2409: UserWarning: for layer2.1.conv3.weight: copying from a non-meta parameter in the checkpoint to a meta parameter in the current model, which is a no-op. (Did you mean to pass `assign=True` to assign items in the state dictionary to their corresponding key in the module instead of copying them in place?)\n",
      "  warnings.warn(\n",
      "/opt/.fiftyone-venv/lib/python3.11/site-packages/torch/nn/modules/module.py:2409: UserWarning: for layer2.1.bn3.weight: copying from a non-meta parameter in the checkpoint to a meta parameter in the current model, which is a no-op. (Did you mean to pass `assign=True` to assign items in the state dictionary to their corresponding key in the module instead of copying them in place?)\n",
      "  warnings.warn(\n",
      "/opt/.fiftyone-venv/lib/python3.11/site-packages/torch/nn/modules/module.py:2409: UserWarning: for layer2.1.bn3.bias: copying from a non-meta parameter in the checkpoint to a meta parameter in the current model, which is a no-op. (Did you mean to pass `assign=True` to assign items in the state dictionary to their corresponding key in the module instead of copying them in place?)\n",
      "  warnings.warn(\n",
      "/opt/.fiftyone-venv/lib/python3.11/site-packages/torch/nn/modules/module.py:2409: UserWarning: for layer2.2.conv1.weight: copying from a non-meta parameter in the checkpoint to a meta parameter in the current model, which is a no-op. (Did you mean to pass `assign=True` to assign items in the state dictionary to their corresponding key in the module instead of copying them in place?)\n",
      "  warnings.warn(\n",
      "/opt/.fiftyone-venv/lib/python3.11/site-packages/torch/nn/modules/module.py:2409: UserWarning: for layer2.2.bn1.weight: copying from a non-meta parameter in the checkpoint to a meta parameter in the current model, which is a no-op. (Did you mean to pass `assign=True` to assign items in the state dictionary to their corresponding key in the module instead of copying them in place?)\n",
      "  warnings.warn(\n",
      "/opt/.fiftyone-venv/lib/python3.11/site-packages/torch/nn/modules/module.py:2409: UserWarning: for layer2.2.bn1.bias: copying from a non-meta parameter in the checkpoint to a meta parameter in the current model, which is a no-op. (Did you mean to pass `assign=True` to assign items in the state dictionary to their corresponding key in the module instead of copying them in place?)\n",
      "  warnings.warn(\n",
      "/opt/.fiftyone-venv/lib/python3.11/site-packages/torch/nn/modules/module.py:2409: UserWarning: for layer2.2.conv2.weight: copying from a non-meta parameter in the checkpoint to a meta parameter in the current model, which is a no-op. (Did you mean to pass `assign=True` to assign items in the state dictionary to their corresponding key in the module instead of copying them in place?)\n",
      "  warnings.warn(\n",
      "/opt/.fiftyone-venv/lib/python3.11/site-packages/torch/nn/modules/module.py:2409: UserWarning: for layer2.2.bn2.weight: copying from a non-meta parameter in the checkpoint to a meta parameter in the current model, which is a no-op. (Did you mean to pass `assign=True` to assign items in the state dictionary to their corresponding key in the module instead of copying them in place?)\n",
      "  warnings.warn(\n",
      "/opt/.fiftyone-venv/lib/python3.11/site-packages/torch/nn/modules/module.py:2409: UserWarning: for layer2.2.bn2.bias: copying from a non-meta parameter in the checkpoint to a meta parameter in the current model, which is a no-op. (Did you mean to pass `assign=True` to assign items in the state dictionary to their corresponding key in the module instead of copying them in place?)\n",
      "  warnings.warn(\n",
      "/opt/.fiftyone-venv/lib/python3.11/site-packages/torch/nn/modules/module.py:2409: UserWarning: for layer2.2.conv3.weight: copying from a non-meta parameter in the checkpoint to a meta parameter in the current model, which is a no-op. (Did you mean to pass `assign=True` to assign items in the state dictionary to their corresponding key in the module instead of copying them in place?)\n",
      "  warnings.warn(\n",
      "/opt/.fiftyone-venv/lib/python3.11/site-packages/torch/nn/modules/module.py:2409: UserWarning: for layer2.2.bn3.weight: copying from a non-meta parameter in the checkpoint to a meta parameter in the current model, which is a no-op. (Did you mean to pass `assign=True` to assign items in the state dictionary to their corresponding key in the module instead of copying them in place?)\n",
      "  warnings.warn(\n",
      "/opt/.fiftyone-venv/lib/python3.11/site-packages/torch/nn/modules/module.py:2409: UserWarning: for layer2.2.bn3.bias: copying from a non-meta parameter in the checkpoint to a meta parameter in the current model, which is a no-op. (Did you mean to pass `assign=True` to assign items in the state dictionary to their corresponding key in the module instead of copying them in place?)\n",
      "  warnings.warn(\n",
      "/opt/.fiftyone-venv/lib/python3.11/site-packages/torch/nn/modules/module.py:2409: UserWarning: for layer2.3.conv1.weight: copying from a non-meta parameter in the checkpoint to a meta parameter in the current model, which is a no-op. (Did you mean to pass `assign=True` to assign items in the state dictionary to their corresponding key in the module instead of copying them in place?)\n",
      "  warnings.warn(\n",
      "/opt/.fiftyone-venv/lib/python3.11/site-packages/torch/nn/modules/module.py:2409: UserWarning: for layer2.3.bn1.weight: copying from a non-meta parameter in the checkpoint to a meta parameter in the current model, which is a no-op. (Did you mean to pass `assign=True` to assign items in the state dictionary to their corresponding key in the module instead of copying them in place?)\n",
      "  warnings.warn(\n",
      "/opt/.fiftyone-venv/lib/python3.11/site-packages/torch/nn/modules/module.py:2409: UserWarning: for layer2.3.bn1.bias: copying from a non-meta parameter in the checkpoint to a meta parameter in the current model, which is a no-op. (Did you mean to pass `assign=True` to assign items in the state dictionary to their corresponding key in the module instead of copying them in place?)\n",
      "  warnings.warn(\n",
      "/opt/.fiftyone-venv/lib/python3.11/site-packages/torch/nn/modules/module.py:2409: UserWarning: for layer2.3.conv2.weight: copying from a non-meta parameter in the checkpoint to a meta parameter in the current model, which is a no-op. (Did you mean to pass `assign=True` to assign items in the state dictionary to their corresponding key in the module instead of copying them in place?)\n",
      "  warnings.warn(\n",
      "/opt/.fiftyone-venv/lib/python3.11/site-packages/torch/nn/modules/module.py:2409: UserWarning: for layer2.3.bn2.weight: copying from a non-meta parameter in the checkpoint to a meta parameter in the current model, which is a no-op. (Did you mean to pass `assign=True` to assign items in the state dictionary to their corresponding key in the module instead of copying them in place?)\n",
      "  warnings.warn(\n",
      "/opt/.fiftyone-venv/lib/python3.11/site-packages/torch/nn/modules/module.py:2409: UserWarning: for layer2.3.bn2.bias: copying from a non-meta parameter in the checkpoint to a meta parameter in the current model, which is a no-op. (Did you mean to pass `assign=True` to assign items in the state dictionary to their corresponding key in the module instead of copying them in place?)\n",
      "  warnings.warn(\n",
      "/opt/.fiftyone-venv/lib/python3.11/site-packages/torch/nn/modules/module.py:2409: UserWarning: for layer2.3.conv3.weight: copying from a non-meta parameter in the checkpoint to a meta parameter in the current model, which is a no-op. (Did you mean to pass `assign=True` to assign items in the state dictionary to their corresponding key in the module instead of copying them in place?)\n",
      "  warnings.warn(\n",
      "/opt/.fiftyone-venv/lib/python3.11/site-packages/torch/nn/modules/module.py:2409: UserWarning: for layer2.3.bn3.weight: copying from a non-meta parameter in the checkpoint to a meta parameter in the current model, which is a no-op. (Did you mean to pass `assign=True` to assign items in the state dictionary to their corresponding key in the module instead of copying them in place?)\n",
      "  warnings.warn(\n",
      "/opt/.fiftyone-venv/lib/python3.11/site-packages/torch/nn/modules/module.py:2409: UserWarning: for layer2.3.bn3.bias: copying from a non-meta parameter in the checkpoint to a meta parameter in the current model, which is a no-op. (Did you mean to pass `assign=True` to assign items in the state dictionary to their corresponding key in the module instead of copying them in place?)\n",
      "  warnings.warn(\n",
      "/opt/.fiftyone-venv/lib/python3.11/site-packages/torch/nn/modules/module.py:2409: UserWarning: for layer3.0.conv1.weight: copying from a non-meta parameter in the checkpoint to a meta parameter in the current model, which is a no-op. (Did you mean to pass `assign=True` to assign items in the state dictionary to their corresponding key in the module instead of copying them in place?)\n",
      "  warnings.warn(\n",
      "/opt/.fiftyone-venv/lib/python3.11/site-packages/torch/nn/modules/module.py:2409: UserWarning: for layer3.0.bn1.weight: copying from a non-meta parameter in the checkpoint to a meta parameter in the current model, which is a no-op. (Did you mean to pass `assign=True` to assign items in the state dictionary to their corresponding key in the module instead of copying them in place?)\n",
      "  warnings.warn(\n",
      "/opt/.fiftyone-venv/lib/python3.11/site-packages/torch/nn/modules/module.py:2409: UserWarning: for layer3.0.bn1.bias: copying from a non-meta parameter in the checkpoint to a meta parameter in the current model, which is a no-op. (Did you mean to pass `assign=True` to assign items in the state dictionary to their corresponding key in the module instead of copying them in place?)\n",
      "  warnings.warn(\n",
      "/opt/.fiftyone-venv/lib/python3.11/site-packages/torch/nn/modules/module.py:2409: UserWarning: for layer3.0.conv2.weight: copying from a non-meta parameter in the checkpoint to a meta parameter in the current model, which is a no-op. (Did you mean to pass `assign=True` to assign items in the state dictionary to their corresponding key in the module instead of copying them in place?)\n",
      "  warnings.warn(\n",
      "/opt/.fiftyone-venv/lib/python3.11/site-packages/torch/nn/modules/module.py:2409: UserWarning: for layer3.0.bn2.weight: copying from a non-meta parameter in the checkpoint to a meta parameter in the current model, which is a no-op. (Did you mean to pass `assign=True` to assign items in the state dictionary to their corresponding key in the module instead of copying them in place?)\n",
      "  warnings.warn(\n",
      "/opt/.fiftyone-venv/lib/python3.11/site-packages/torch/nn/modules/module.py:2409: UserWarning: for layer3.0.bn2.bias: copying from a non-meta parameter in the checkpoint to a meta parameter in the current model, which is a no-op. (Did you mean to pass `assign=True` to assign items in the state dictionary to their corresponding key in the module instead of copying them in place?)\n",
      "  warnings.warn(\n",
      "/opt/.fiftyone-venv/lib/python3.11/site-packages/torch/nn/modules/module.py:2409: UserWarning: for layer3.0.conv3.weight: copying from a non-meta parameter in the checkpoint to a meta parameter in the current model, which is a no-op. (Did you mean to pass `assign=True` to assign items in the state dictionary to their corresponding key in the module instead of copying them in place?)\n",
      "  warnings.warn(\n",
      "/opt/.fiftyone-venv/lib/python3.11/site-packages/torch/nn/modules/module.py:2409: UserWarning: for layer3.0.bn3.weight: copying from a non-meta parameter in the checkpoint to a meta parameter in the current model, which is a no-op. (Did you mean to pass `assign=True` to assign items in the state dictionary to their corresponding key in the module instead of copying them in place?)\n",
      "  warnings.warn(\n",
      "/opt/.fiftyone-venv/lib/python3.11/site-packages/torch/nn/modules/module.py:2409: UserWarning: for layer3.0.bn3.bias: copying from a non-meta parameter in the checkpoint to a meta parameter in the current model, which is a no-op. (Did you mean to pass `assign=True` to assign items in the state dictionary to their corresponding key in the module instead of copying them in place?)\n",
      "  warnings.warn(\n",
      "/opt/.fiftyone-venv/lib/python3.11/site-packages/torch/nn/modules/module.py:2409: UserWarning: for layer3.0.downsample.0.weight: copying from a non-meta parameter in the checkpoint to a meta parameter in the current model, which is a no-op. (Did you mean to pass `assign=True` to assign items in the state dictionary to their corresponding key in the module instead of copying them in place?)\n",
      "  warnings.warn(\n",
      "/opt/.fiftyone-venv/lib/python3.11/site-packages/torch/nn/modules/module.py:2409: UserWarning: for layer3.0.downsample.1.weight: copying from a non-meta parameter in the checkpoint to a meta parameter in the current model, which is a no-op. (Did you mean to pass `assign=True` to assign items in the state dictionary to their corresponding key in the module instead of copying them in place?)\n",
      "  warnings.warn(\n",
      "/opt/.fiftyone-venv/lib/python3.11/site-packages/torch/nn/modules/module.py:2409: UserWarning: for layer3.0.downsample.1.bias: copying from a non-meta parameter in the checkpoint to a meta parameter in the current model, which is a no-op. (Did you mean to pass `assign=True` to assign items in the state dictionary to their corresponding key in the module instead of copying them in place?)\n",
      "  warnings.warn(\n",
      "/opt/.fiftyone-venv/lib/python3.11/site-packages/torch/nn/modules/module.py:2409: UserWarning: for layer3.1.conv1.weight: copying from a non-meta parameter in the checkpoint to a meta parameter in the current model, which is a no-op. (Did you mean to pass `assign=True` to assign items in the state dictionary to their corresponding key in the module instead of copying them in place?)\n",
      "  warnings.warn(\n",
      "/opt/.fiftyone-venv/lib/python3.11/site-packages/torch/nn/modules/module.py:2409: UserWarning: for layer3.1.bn1.weight: copying from a non-meta parameter in the checkpoint to a meta parameter in the current model, which is a no-op. (Did you mean to pass `assign=True` to assign items in the state dictionary to their corresponding key in the module instead of copying them in place?)\n",
      "  warnings.warn(\n",
      "/opt/.fiftyone-venv/lib/python3.11/site-packages/torch/nn/modules/module.py:2409: UserWarning: for layer3.1.bn1.bias: copying from a non-meta parameter in the checkpoint to a meta parameter in the current model, which is a no-op. (Did you mean to pass `assign=True` to assign items in the state dictionary to their corresponding key in the module instead of copying them in place?)\n",
      "  warnings.warn(\n",
      "/opt/.fiftyone-venv/lib/python3.11/site-packages/torch/nn/modules/module.py:2409: UserWarning: for layer3.1.conv2.weight: copying from a non-meta parameter in the checkpoint to a meta parameter in the current model, which is a no-op. (Did you mean to pass `assign=True` to assign items in the state dictionary to their corresponding key in the module instead of copying them in place?)\n",
      "  warnings.warn(\n",
      "/opt/.fiftyone-venv/lib/python3.11/site-packages/torch/nn/modules/module.py:2409: UserWarning: for layer3.1.bn2.weight: copying from a non-meta parameter in the checkpoint to a meta parameter in the current model, which is a no-op. (Did you mean to pass `assign=True` to assign items in the state dictionary to their corresponding key in the module instead of copying them in place?)\n",
      "  warnings.warn(\n",
      "/opt/.fiftyone-venv/lib/python3.11/site-packages/torch/nn/modules/module.py:2409: UserWarning: for layer3.1.bn2.bias: copying from a non-meta parameter in the checkpoint to a meta parameter in the current model, which is a no-op. (Did you mean to pass `assign=True` to assign items in the state dictionary to their corresponding key in the module instead of copying them in place?)\n",
      "  warnings.warn(\n",
      "/opt/.fiftyone-venv/lib/python3.11/site-packages/torch/nn/modules/module.py:2409: UserWarning: for layer3.1.conv3.weight: copying from a non-meta parameter in the checkpoint to a meta parameter in the current model, which is a no-op. (Did you mean to pass `assign=True` to assign items in the state dictionary to their corresponding key in the module instead of copying them in place?)\n",
      "  warnings.warn(\n",
      "/opt/.fiftyone-venv/lib/python3.11/site-packages/torch/nn/modules/module.py:2409: UserWarning: for layer3.1.bn3.weight: copying from a non-meta parameter in the checkpoint to a meta parameter in the current model, which is a no-op. (Did you mean to pass `assign=True` to assign items in the state dictionary to their corresponding key in the module instead of copying them in place?)\n",
      "  warnings.warn(\n",
      "/opt/.fiftyone-venv/lib/python3.11/site-packages/torch/nn/modules/module.py:2409: UserWarning: for layer3.1.bn3.bias: copying from a non-meta parameter in the checkpoint to a meta parameter in the current model, which is a no-op. (Did you mean to pass `assign=True` to assign items in the state dictionary to their corresponding key in the module instead of copying them in place?)\n",
      "  warnings.warn(\n",
      "/opt/.fiftyone-venv/lib/python3.11/site-packages/torch/nn/modules/module.py:2409: UserWarning: for layer3.2.conv1.weight: copying from a non-meta parameter in the checkpoint to a meta parameter in the current model, which is a no-op. (Did you mean to pass `assign=True` to assign items in the state dictionary to their corresponding key in the module instead of copying them in place?)\n",
      "  warnings.warn(\n",
      "/opt/.fiftyone-venv/lib/python3.11/site-packages/torch/nn/modules/module.py:2409: UserWarning: for layer3.2.bn1.weight: copying from a non-meta parameter in the checkpoint to a meta parameter in the current model, which is a no-op. (Did you mean to pass `assign=True` to assign items in the state dictionary to their corresponding key in the module instead of copying them in place?)\n",
      "  warnings.warn(\n",
      "/opt/.fiftyone-venv/lib/python3.11/site-packages/torch/nn/modules/module.py:2409: UserWarning: for layer3.2.bn1.bias: copying from a non-meta parameter in the checkpoint to a meta parameter in the current model, which is a no-op. (Did you mean to pass `assign=True` to assign items in the state dictionary to their corresponding key in the module instead of copying them in place?)\n",
      "  warnings.warn(\n",
      "/opt/.fiftyone-venv/lib/python3.11/site-packages/torch/nn/modules/module.py:2409: UserWarning: for layer3.2.conv2.weight: copying from a non-meta parameter in the checkpoint to a meta parameter in the current model, which is a no-op. (Did you mean to pass `assign=True` to assign items in the state dictionary to their corresponding key in the module instead of copying them in place?)\n",
      "  warnings.warn(\n",
      "/opt/.fiftyone-venv/lib/python3.11/site-packages/torch/nn/modules/module.py:2409: UserWarning: for layer3.2.bn2.weight: copying from a non-meta parameter in the checkpoint to a meta parameter in the current model, which is a no-op. (Did you mean to pass `assign=True` to assign items in the state dictionary to their corresponding key in the module instead of copying them in place?)\n",
      "  warnings.warn(\n",
      "/opt/.fiftyone-venv/lib/python3.11/site-packages/torch/nn/modules/module.py:2409: UserWarning: for layer3.2.bn2.bias: copying from a non-meta parameter in the checkpoint to a meta parameter in the current model, which is a no-op. (Did you mean to pass `assign=True` to assign items in the state dictionary to their corresponding key in the module instead of copying them in place?)\n",
      "  warnings.warn(\n",
      "/opt/.fiftyone-venv/lib/python3.11/site-packages/torch/nn/modules/module.py:2409: UserWarning: for layer3.2.conv3.weight: copying from a non-meta parameter in the checkpoint to a meta parameter in the current model, which is a no-op. (Did you mean to pass `assign=True` to assign items in the state dictionary to their corresponding key in the module instead of copying them in place?)\n",
      "  warnings.warn(\n",
      "/opt/.fiftyone-venv/lib/python3.11/site-packages/torch/nn/modules/module.py:2409: UserWarning: for layer3.2.bn3.weight: copying from a non-meta parameter in the checkpoint to a meta parameter in the current model, which is a no-op. (Did you mean to pass `assign=True` to assign items in the state dictionary to their corresponding key in the module instead of copying them in place?)\n",
      "  warnings.warn(\n",
      "/opt/.fiftyone-venv/lib/python3.11/site-packages/torch/nn/modules/module.py:2409: UserWarning: for layer3.2.bn3.bias: copying from a non-meta parameter in the checkpoint to a meta parameter in the current model, which is a no-op. (Did you mean to pass `assign=True` to assign items in the state dictionary to their corresponding key in the module instead of copying them in place?)\n",
      "  warnings.warn(\n",
      "/opt/.fiftyone-venv/lib/python3.11/site-packages/torch/nn/modules/module.py:2409: UserWarning: for layer3.3.conv1.weight: copying from a non-meta parameter in the checkpoint to a meta parameter in the current model, which is a no-op. (Did you mean to pass `assign=True` to assign items in the state dictionary to their corresponding key in the module instead of copying them in place?)\n",
      "  warnings.warn(\n",
      "/opt/.fiftyone-venv/lib/python3.11/site-packages/torch/nn/modules/module.py:2409: UserWarning: for layer3.3.bn1.weight: copying from a non-meta parameter in the checkpoint to a meta parameter in the current model, which is a no-op. (Did you mean to pass `assign=True` to assign items in the state dictionary to their corresponding key in the module instead of copying them in place?)\n",
      "  warnings.warn(\n",
      "/opt/.fiftyone-venv/lib/python3.11/site-packages/torch/nn/modules/module.py:2409: UserWarning: for layer3.3.bn1.bias: copying from a non-meta parameter in the checkpoint to a meta parameter in the current model, which is a no-op. (Did you mean to pass `assign=True` to assign items in the state dictionary to their corresponding key in the module instead of copying them in place?)\n",
      "  warnings.warn(\n",
      "/opt/.fiftyone-venv/lib/python3.11/site-packages/torch/nn/modules/module.py:2409: UserWarning: for layer3.3.conv2.weight: copying from a non-meta parameter in the checkpoint to a meta parameter in the current model, which is a no-op. (Did you mean to pass `assign=True` to assign items in the state dictionary to their corresponding key in the module instead of copying them in place?)\n",
      "  warnings.warn(\n",
      "/opt/.fiftyone-venv/lib/python3.11/site-packages/torch/nn/modules/module.py:2409: UserWarning: for layer3.3.bn2.weight: copying from a non-meta parameter in the checkpoint to a meta parameter in the current model, which is a no-op. (Did you mean to pass `assign=True` to assign items in the state dictionary to their corresponding key in the module instead of copying them in place?)\n",
      "  warnings.warn(\n",
      "/opt/.fiftyone-venv/lib/python3.11/site-packages/torch/nn/modules/module.py:2409: UserWarning: for layer3.3.bn2.bias: copying from a non-meta parameter in the checkpoint to a meta parameter in the current model, which is a no-op. (Did you mean to pass `assign=True` to assign items in the state dictionary to their corresponding key in the module instead of copying them in place?)\n",
      "  warnings.warn(\n",
      "/opt/.fiftyone-venv/lib/python3.11/site-packages/torch/nn/modules/module.py:2409: UserWarning: for layer3.3.conv3.weight: copying from a non-meta parameter in the checkpoint to a meta parameter in the current model, which is a no-op. (Did you mean to pass `assign=True` to assign items in the state dictionary to their corresponding key in the module instead of copying them in place?)\n",
      "  warnings.warn(\n",
      "/opt/.fiftyone-venv/lib/python3.11/site-packages/torch/nn/modules/module.py:2409: UserWarning: for layer3.3.bn3.weight: copying from a non-meta parameter in the checkpoint to a meta parameter in the current model, which is a no-op. (Did you mean to pass `assign=True` to assign items in the state dictionary to their corresponding key in the module instead of copying them in place?)\n",
      "  warnings.warn(\n",
      "/opt/.fiftyone-venv/lib/python3.11/site-packages/torch/nn/modules/module.py:2409: UserWarning: for layer3.3.bn3.bias: copying from a non-meta parameter in the checkpoint to a meta parameter in the current model, which is a no-op. (Did you mean to pass `assign=True` to assign items in the state dictionary to their corresponding key in the module instead of copying them in place?)\n",
      "  warnings.warn(\n",
      "/opt/.fiftyone-venv/lib/python3.11/site-packages/torch/nn/modules/module.py:2409: UserWarning: for layer3.4.conv1.weight: copying from a non-meta parameter in the checkpoint to a meta parameter in the current model, which is a no-op. (Did you mean to pass `assign=True` to assign items in the state dictionary to their corresponding key in the module instead of copying them in place?)\n",
      "  warnings.warn(\n",
      "/opt/.fiftyone-venv/lib/python3.11/site-packages/torch/nn/modules/module.py:2409: UserWarning: for layer3.4.bn1.weight: copying from a non-meta parameter in the checkpoint to a meta parameter in the current model, which is a no-op. (Did you mean to pass `assign=True` to assign items in the state dictionary to their corresponding key in the module instead of copying them in place?)\n",
      "  warnings.warn(\n",
      "/opt/.fiftyone-venv/lib/python3.11/site-packages/torch/nn/modules/module.py:2409: UserWarning: for layer3.4.bn1.bias: copying from a non-meta parameter in the checkpoint to a meta parameter in the current model, which is a no-op. (Did you mean to pass `assign=True` to assign items in the state dictionary to their corresponding key in the module instead of copying them in place?)\n",
      "  warnings.warn(\n",
      "/opt/.fiftyone-venv/lib/python3.11/site-packages/torch/nn/modules/module.py:2409: UserWarning: for layer3.4.conv2.weight: copying from a non-meta parameter in the checkpoint to a meta parameter in the current model, which is a no-op. (Did you mean to pass `assign=True` to assign items in the state dictionary to their corresponding key in the module instead of copying them in place?)\n",
      "  warnings.warn(\n",
      "/opt/.fiftyone-venv/lib/python3.11/site-packages/torch/nn/modules/module.py:2409: UserWarning: for layer3.4.bn2.weight: copying from a non-meta parameter in the checkpoint to a meta parameter in the current model, which is a no-op. (Did you mean to pass `assign=True` to assign items in the state dictionary to their corresponding key in the module instead of copying them in place?)\n",
      "  warnings.warn(\n",
      "/opt/.fiftyone-venv/lib/python3.11/site-packages/torch/nn/modules/module.py:2409: UserWarning: for layer3.4.bn2.bias: copying from a non-meta parameter in the checkpoint to a meta parameter in the current model, which is a no-op. (Did you mean to pass `assign=True` to assign items in the state dictionary to their corresponding key in the module instead of copying them in place?)\n",
      "  warnings.warn(\n",
      "/opt/.fiftyone-venv/lib/python3.11/site-packages/torch/nn/modules/module.py:2409: UserWarning: for layer3.4.conv3.weight: copying from a non-meta parameter in the checkpoint to a meta parameter in the current model, which is a no-op. (Did you mean to pass `assign=True` to assign items in the state dictionary to their corresponding key in the module instead of copying them in place?)\n",
      "  warnings.warn(\n",
      "/opt/.fiftyone-venv/lib/python3.11/site-packages/torch/nn/modules/module.py:2409: UserWarning: for layer3.4.bn3.weight: copying from a non-meta parameter in the checkpoint to a meta parameter in the current model, which is a no-op. (Did you mean to pass `assign=True` to assign items in the state dictionary to their corresponding key in the module instead of copying them in place?)\n",
      "  warnings.warn(\n",
      "/opt/.fiftyone-venv/lib/python3.11/site-packages/torch/nn/modules/module.py:2409: UserWarning: for layer3.4.bn3.bias: copying from a non-meta parameter in the checkpoint to a meta parameter in the current model, which is a no-op. (Did you mean to pass `assign=True` to assign items in the state dictionary to their corresponding key in the module instead of copying them in place?)\n",
      "  warnings.warn(\n",
      "/opt/.fiftyone-venv/lib/python3.11/site-packages/torch/nn/modules/module.py:2409: UserWarning: for layer3.5.conv1.weight: copying from a non-meta parameter in the checkpoint to a meta parameter in the current model, which is a no-op. (Did you mean to pass `assign=True` to assign items in the state dictionary to their corresponding key in the module instead of copying them in place?)\n",
      "  warnings.warn(\n",
      "/opt/.fiftyone-venv/lib/python3.11/site-packages/torch/nn/modules/module.py:2409: UserWarning: for layer3.5.bn1.weight: copying from a non-meta parameter in the checkpoint to a meta parameter in the current model, which is a no-op. (Did you mean to pass `assign=True` to assign items in the state dictionary to their corresponding key in the module instead of copying them in place?)\n",
      "  warnings.warn(\n",
      "/opt/.fiftyone-venv/lib/python3.11/site-packages/torch/nn/modules/module.py:2409: UserWarning: for layer3.5.bn1.bias: copying from a non-meta parameter in the checkpoint to a meta parameter in the current model, which is a no-op. (Did you mean to pass `assign=True` to assign items in the state dictionary to their corresponding key in the module instead of copying them in place?)\n",
      "  warnings.warn(\n",
      "/opt/.fiftyone-venv/lib/python3.11/site-packages/torch/nn/modules/module.py:2409: UserWarning: for layer3.5.conv2.weight: copying from a non-meta parameter in the checkpoint to a meta parameter in the current model, which is a no-op. (Did you mean to pass `assign=True` to assign items in the state dictionary to their corresponding key in the module instead of copying them in place?)\n",
      "  warnings.warn(\n",
      "/opt/.fiftyone-venv/lib/python3.11/site-packages/torch/nn/modules/module.py:2409: UserWarning: for layer3.5.bn2.weight: copying from a non-meta parameter in the checkpoint to a meta parameter in the current model, which is a no-op. (Did you mean to pass `assign=True` to assign items in the state dictionary to their corresponding key in the module instead of copying them in place?)\n",
      "  warnings.warn(\n",
      "/opt/.fiftyone-venv/lib/python3.11/site-packages/torch/nn/modules/module.py:2409: UserWarning: for layer3.5.bn2.bias: copying from a non-meta parameter in the checkpoint to a meta parameter in the current model, which is a no-op. (Did you mean to pass `assign=True` to assign items in the state dictionary to their corresponding key in the module instead of copying them in place?)\n",
      "  warnings.warn(\n",
      "/opt/.fiftyone-venv/lib/python3.11/site-packages/torch/nn/modules/module.py:2409: UserWarning: for layer3.5.conv3.weight: copying from a non-meta parameter in the checkpoint to a meta parameter in the current model, which is a no-op. (Did you mean to pass `assign=True` to assign items in the state dictionary to their corresponding key in the module instead of copying them in place?)\n",
      "  warnings.warn(\n",
      "/opt/.fiftyone-venv/lib/python3.11/site-packages/torch/nn/modules/module.py:2409: UserWarning: for layer3.5.bn3.weight: copying from a non-meta parameter in the checkpoint to a meta parameter in the current model, which is a no-op. (Did you mean to pass `assign=True` to assign items in the state dictionary to their corresponding key in the module instead of copying them in place?)\n",
      "  warnings.warn(\n",
      "/opt/.fiftyone-venv/lib/python3.11/site-packages/torch/nn/modules/module.py:2409: UserWarning: for layer3.5.bn3.bias: copying from a non-meta parameter in the checkpoint to a meta parameter in the current model, which is a no-op. (Did you mean to pass `assign=True` to assign items in the state dictionary to their corresponding key in the module instead of copying them in place?)\n",
      "  warnings.warn(\n",
      "/opt/.fiftyone-venv/lib/python3.11/site-packages/torch/nn/modules/module.py:2409: UserWarning: for layer4.0.conv1.weight: copying from a non-meta parameter in the checkpoint to a meta parameter in the current model, which is a no-op. (Did you mean to pass `assign=True` to assign items in the state dictionary to their corresponding key in the module instead of copying them in place?)\n",
      "  warnings.warn(\n",
      "/opt/.fiftyone-venv/lib/python3.11/site-packages/torch/nn/modules/module.py:2409: UserWarning: for layer4.0.bn1.weight: copying from a non-meta parameter in the checkpoint to a meta parameter in the current model, which is a no-op. (Did you mean to pass `assign=True` to assign items in the state dictionary to their corresponding key in the module instead of copying them in place?)\n",
      "  warnings.warn(\n",
      "/opt/.fiftyone-venv/lib/python3.11/site-packages/torch/nn/modules/module.py:2409: UserWarning: for layer4.0.bn1.bias: copying from a non-meta parameter in the checkpoint to a meta parameter in the current model, which is a no-op. (Did you mean to pass `assign=True` to assign items in the state dictionary to their corresponding key in the module instead of copying them in place?)\n",
      "  warnings.warn(\n",
      "/opt/.fiftyone-venv/lib/python3.11/site-packages/torch/nn/modules/module.py:2409: UserWarning: for layer4.0.conv2.weight: copying from a non-meta parameter in the checkpoint to a meta parameter in the current model, which is a no-op. (Did you mean to pass `assign=True` to assign items in the state dictionary to their corresponding key in the module instead of copying them in place?)\n",
      "  warnings.warn(\n",
      "/opt/.fiftyone-venv/lib/python3.11/site-packages/torch/nn/modules/module.py:2409: UserWarning: for layer4.0.bn2.weight: copying from a non-meta parameter in the checkpoint to a meta parameter in the current model, which is a no-op. (Did you mean to pass `assign=True` to assign items in the state dictionary to their corresponding key in the module instead of copying them in place?)\n",
      "  warnings.warn(\n",
      "/opt/.fiftyone-venv/lib/python3.11/site-packages/torch/nn/modules/module.py:2409: UserWarning: for layer4.0.bn2.bias: copying from a non-meta parameter in the checkpoint to a meta parameter in the current model, which is a no-op. (Did you mean to pass `assign=True` to assign items in the state dictionary to their corresponding key in the module instead of copying them in place?)\n",
      "  warnings.warn(\n",
      "/opt/.fiftyone-venv/lib/python3.11/site-packages/torch/nn/modules/module.py:2409: UserWarning: for layer4.0.conv3.weight: copying from a non-meta parameter in the checkpoint to a meta parameter in the current model, which is a no-op. (Did you mean to pass `assign=True` to assign items in the state dictionary to their corresponding key in the module instead of copying them in place?)\n",
      "  warnings.warn(\n",
      "/opt/.fiftyone-venv/lib/python3.11/site-packages/torch/nn/modules/module.py:2409: UserWarning: for layer4.0.bn3.weight: copying from a non-meta parameter in the checkpoint to a meta parameter in the current model, which is a no-op. (Did you mean to pass `assign=True` to assign items in the state dictionary to their corresponding key in the module instead of copying them in place?)\n",
      "  warnings.warn(\n",
      "/opt/.fiftyone-venv/lib/python3.11/site-packages/torch/nn/modules/module.py:2409: UserWarning: for layer4.0.bn3.bias: copying from a non-meta parameter in the checkpoint to a meta parameter in the current model, which is a no-op. (Did you mean to pass `assign=True` to assign items in the state dictionary to their corresponding key in the module instead of copying them in place?)\n",
      "  warnings.warn(\n",
      "/opt/.fiftyone-venv/lib/python3.11/site-packages/torch/nn/modules/module.py:2409: UserWarning: for layer4.0.downsample.0.weight: copying from a non-meta parameter in the checkpoint to a meta parameter in the current model, which is a no-op. (Did you mean to pass `assign=True` to assign items in the state dictionary to their corresponding key in the module instead of copying them in place?)\n",
      "  warnings.warn(\n",
      "/opt/.fiftyone-venv/lib/python3.11/site-packages/torch/nn/modules/module.py:2409: UserWarning: for layer4.0.downsample.1.weight: copying from a non-meta parameter in the checkpoint to a meta parameter in the current model, which is a no-op. (Did you mean to pass `assign=True` to assign items in the state dictionary to their corresponding key in the module instead of copying them in place?)\n",
      "  warnings.warn(\n",
      "/opt/.fiftyone-venv/lib/python3.11/site-packages/torch/nn/modules/module.py:2409: UserWarning: for layer4.0.downsample.1.bias: copying from a non-meta parameter in the checkpoint to a meta parameter in the current model, which is a no-op. (Did you mean to pass `assign=True` to assign items in the state dictionary to their corresponding key in the module instead of copying them in place?)\n",
      "  warnings.warn(\n",
      "/opt/.fiftyone-venv/lib/python3.11/site-packages/torch/nn/modules/module.py:2409: UserWarning: for layer4.1.conv1.weight: copying from a non-meta parameter in the checkpoint to a meta parameter in the current model, which is a no-op. (Did you mean to pass `assign=True` to assign items in the state dictionary to their corresponding key in the module instead of copying them in place?)\n",
      "  warnings.warn(\n",
      "/opt/.fiftyone-venv/lib/python3.11/site-packages/torch/nn/modules/module.py:2409: UserWarning: for layer4.1.bn1.weight: copying from a non-meta parameter in the checkpoint to a meta parameter in the current model, which is a no-op. (Did you mean to pass `assign=True` to assign items in the state dictionary to their corresponding key in the module instead of copying them in place?)\n",
      "  warnings.warn(\n",
      "/opt/.fiftyone-venv/lib/python3.11/site-packages/torch/nn/modules/module.py:2409: UserWarning: for layer4.1.bn1.bias: copying from a non-meta parameter in the checkpoint to a meta parameter in the current model, which is a no-op. (Did you mean to pass `assign=True` to assign items in the state dictionary to their corresponding key in the module instead of copying them in place?)\n",
      "  warnings.warn(\n",
      "/opt/.fiftyone-venv/lib/python3.11/site-packages/torch/nn/modules/module.py:2409: UserWarning: for layer4.1.conv2.weight: copying from a non-meta parameter in the checkpoint to a meta parameter in the current model, which is a no-op. (Did you mean to pass `assign=True` to assign items in the state dictionary to their corresponding key in the module instead of copying them in place?)\n",
      "  warnings.warn(\n",
      "/opt/.fiftyone-venv/lib/python3.11/site-packages/torch/nn/modules/module.py:2409: UserWarning: for layer4.1.bn2.weight: copying from a non-meta parameter in the checkpoint to a meta parameter in the current model, which is a no-op. (Did you mean to pass `assign=True` to assign items in the state dictionary to their corresponding key in the module instead of copying them in place?)\n",
      "  warnings.warn(\n",
      "/opt/.fiftyone-venv/lib/python3.11/site-packages/torch/nn/modules/module.py:2409: UserWarning: for layer4.1.bn2.bias: copying from a non-meta parameter in the checkpoint to a meta parameter in the current model, which is a no-op. (Did you mean to pass `assign=True` to assign items in the state dictionary to their corresponding key in the module instead of copying them in place?)\n",
      "  warnings.warn(\n",
      "/opt/.fiftyone-venv/lib/python3.11/site-packages/torch/nn/modules/module.py:2409: UserWarning: for layer4.1.conv3.weight: copying from a non-meta parameter in the checkpoint to a meta parameter in the current model, which is a no-op. (Did you mean to pass `assign=True` to assign items in the state dictionary to their corresponding key in the module instead of copying them in place?)\n",
      "  warnings.warn(\n",
      "/opt/.fiftyone-venv/lib/python3.11/site-packages/torch/nn/modules/module.py:2409: UserWarning: for layer4.1.bn3.weight: copying from a non-meta parameter in the checkpoint to a meta parameter in the current model, which is a no-op. (Did you mean to pass `assign=True` to assign items in the state dictionary to their corresponding key in the module instead of copying them in place?)\n",
      "  warnings.warn(\n",
      "/opt/.fiftyone-venv/lib/python3.11/site-packages/torch/nn/modules/module.py:2409: UserWarning: for layer4.1.bn3.bias: copying from a non-meta parameter in the checkpoint to a meta parameter in the current model, which is a no-op. (Did you mean to pass `assign=True` to assign items in the state dictionary to their corresponding key in the module instead of copying them in place?)\n",
      "  warnings.warn(\n",
      "/opt/.fiftyone-venv/lib/python3.11/site-packages/torch/nn/modules/module.py:2409: UserWarning: for layer4.2.conv1.weight: copying from a non-meta parameter in the checkpoint to a meta parameter in the current model, which is a no-op. (Did you mean to pass `assign=True` to assign items in the state dictionary to their corresponding key in the module instead of copying them in place?)\n",
      "  warnings.warn(\n",
      "/opt/.fiftyone-venv/lib/python3.11/site-packages/torch/nn/modules/module.py:2409: UserWarning: for layer4.2.bn1.weight: copying from a non-meta parameter in the checkpoint to a meta parameter in the current model, which is a no-op. (Did you mean to pass `assign=True` to assign items in the state dictionary to their corresponding key in the module instead of copying them in place?)\n",
      "  warnings.warn(\n",
      "/opt/.fiftyone-venv/lib/python3.11/site-packages/torch/nn/modules/module.py:2409: UserWarning: for layer4.2.bn1.bias: copying from a non-meta parameter in the checkpoint to a meta parameter in the current model, which is a no-op. (Did you mean to pass `assign=True` to assign items in the state dictionary to their corresponding key in the module instead of copying them in place?)\n",
      "  warnings.warn(\n",
      "/opt/.fiftyone-venv/lib/python3.11/site-packages/torch/nn/modules/module.py:2409: UserWarning: for layer4.2.conv2.weight: copying from a non-meta parameter in the checkpoint to a meta parameter in the current model, which is a no-op. (Did you mean to pass `assign=True` to assign items in the state dictionary to their corresponding key in the module instead of copying them in place?)\n",
      "  warnings.warn(\n",
      "/opt/.fiftyone-venv/lib/python3.11/site-packages/torch/nn/modules/module.py:2409: UserWarning: for layer4.2.bn2.weight: copying from a non-meta parameter in the checkpoint to a meta parameter in the current model, which is a no-op. (Did you mean to pass `assign=True` to assign items in the state dictionary to their corresponding key in the module instead of copying them in place?)\n",
      "  warnings.warn(\n",
      "/opt/.fiftyone-venv/lib/python3.11/site-packages/torch/nn/modules/module.py:2409: UserWarning: for layer4.2.bn2.bias: copying from a non-meta parameter in the checkpoint to a meta parameter in the current model, which is a no-op. (Did you mean to pass `assign=True` to assign items in the state dictionary to their corresponding key in the module instead of copying them in place?)\n",
      "  warnings.warn(\n",
      "/opt/.fiftyone-venv/lib/python3.11/site-packages/torch/nn/modules/module.py:2409: UserWarning: for layer4.2.conv3.weight: copying from a non-meta parameter in the checkpoint to a meta parameter in the current model, which is a no-op. (Did you mean to pass `assign=True` to assign items in the state dictionary to their corresponding key in the module instead of copying them in place?)\n",
      "  warnings.warn(\n",
      "/opt/.fiftyone-venv/lib/python3.11/site-packages/torch/nn/modules/module.py:2409: UserWarning: for layer4.2.bn3.weight: copying from a non-meta parameter in the checkpoint to a meta parameter in the current model, which is a no-op. (Did you mean to pass `assign=True` to assign items in the state dictionary to their corresponding key in the module instead of copying them in place?)\n",
      "  warnings.warn(\n",
      "/opt/.fiftyone-venv/lib/python3.11/site-packages/torch/nn/modules/module.py:2409: UserWarning: for layer4.2.bn3.bias: copying from a non-meta parameter in the checkpoint to a meta parameter in the current model, which is a no-op. (Did you mean to pass `assign=True` to assign items in the state dictionary to their corresponding key in the module instead of copying them in place?)\n",
      "  warnings.warn(\n",
      "Some weights of the model checkpoint at facebook/detr-resnet-50 were not used when initializing DetrForObjectDetection: ['model.backbone.conv_encoder.model.layer1.0.downsample.1.num_batches_tracked', 'model.backbone.conv_encoder.model.layer2.0.downsample.1.num_batches_tracked', 'model.backbone.conv_encoder.model.layer3.0.downsample.1.num_batches_tracked', 'model.backbone.conv_encoder.model.layer4.0.downsample.1.num_batches_tracked']\n",
      "- This IS expected if you are initializing DetrForObjectDetection from the checkpoint of a model trained on another task or with another architecture (e.g. initializing a BertForSequenceClassification model from a BertForPreTraining model).\n",
      "- This IS NOT expected if you are initializing DetrForObjectDetection from the checkpoint of a model that you expect to be exactly identical (initializing a BertForSequenceClassification model from a BertForSequenceClassification model).\n",
      "Using a slow image processor as `use_fast` is unset and a slow processor was saved with this model. `use_fast=True` will be the default behavior in v4.52, even if the model was saved with a slow processor. This will result in minor differences in outputs. You'll still be able to use a slow processor with `use_fast=False`.\n"
     ]
    },
    {
     "name": "stdout",
     "output_type": "stream",
     "text": [
      " 100% |███████████████████| 25/25 [2.3m elapsed, 0s remaining, 0.3 samples/s]    \n",
      "Evaluating detections...\n",
      " 100% |███████████████████| 25/25 [784.7ms elapsed, 0s remaining, 31.9 samples/s]      \n",
      "Performing IoU sweep...\n",
      " 100% |███████████████████| 25/25 [400.6ms elapsed, 0s remaining, 62.4 samples/s]      \n"
     ]
    }
   ],
   "source": [
    "from transformers import DetrForObjectDetection\n",
    "model = DetrForObjectDetection.from_pretrained(\n",
    "    \"facebook/detr-resnet-50\"\n",
    ")\n",
    "\n",
    "dataset.apply_model(model, label_field=\"det_predictions\")\n",
    "\n",
    "results = dataset.evaluate_detections(\n",
    "    \"det_predictions\",\n",
    "    gt_field=\"ground_truth\",\n",
    "    eval_key=\"eval_det\",\n",
    "    compute_mAP=True,\n",
    ")"
   ]
  },
  {
   "cell_type": "markdown",
   "metadata": {},
   "source": [
    "## Analyzing Results\n",
    "\n",
    "The `results` object returned by the evaluation routine provides a number of convenient methods for analyzing our predictions.\n",
    "\n",
    "For example, let’s print a classification report for the top-10 most common classes in the dataset:"
   ]
  },
  {
   "cell_type": "code",
   "execution_count": 7,
   "metadata": {},
   "outputs": [
    {
     "name": "stdout",
     "output_type": "stream",
     "text": [
      "              precision    recall  f1-score   support\n",
      "\n",
      "      person       0.64      0.89      0.74        61\n",
      "        book       0.98      0.86      0.92        72\n",
      "         car       0.50      0.75      0.60         8\n",
      "       chair       0.86      0.75      0.80         8\n",
      "         bus       1.00      1.00      1.00         4\n",
      "        vase       0.25      0.50      0.33         4\n",
      "  teddy bear       0.50      1.00      0.67         3\n",
      "potted plant       0.40      0.67      0.50         3\n",
      "    backpack       0.20      0.67      0.31         3\n",
      "         bed       1.00      0.67      0.80         3\n",
      "\n",
      "   micro avg       0.71      0.85      0.77       169\n",
      "   macro avg       0.63      0.77      0.67       169\n",
      "weighted avg       0.78      0.85      0.80       169\n",
      "\n"
     ]
    }
   ],
   "source": [
    "# Get the 10 most common classes in the dataset\n",
    "counts = dataset.count_values(\"ground_truth.detections.label\")\n",
    "classes_top10 = sorted(counts, key=counts.get, reverse=True)[:10]\n",
    "\n",
    "# Print a classification report for the top-10 classes\n",
    "results.print_report(classes=classes_top10)"
   ]
  },
  {
   "cell_type": "markdown",
   "metadata": {},
   "source": [
    "Notice that is also gave us several average evaluation metrics each class along with summary metrics for only these 10 classes. The support column is the actual number of detections for that class. You can learn more by checking out `sklearn`'s [classification report](https://scikit-learn.org/stable/modules/generated/sklearn.metrics.classification_report.html) which is what is being leveraged under the hood!\n",
    "\n",
    "We can also grab the mean average-precision (mAP) of our model as well:"
   ]
  },
  {
   "cell_type": "code",
   "execution_count": 8,
   "metadata": {},
   "outputs": [
    {
     "name": "stdout",
     "output_type": "stream",
     "text": [
      "0.5063002184465007\n"
     ]
    }
   ],
   "source": [
    "print(results.mAP())"
   ]
  },
  {
   "cell_type": "markdown",
   "metadata": {},
   "source": [
    "## Evaluate Subsets\n",
    "\n",
    "As mentioned before, we can evaluate `DatasetViews` as well! Let's evaluate only where our model is highly confident. First we will create a high confidence view, then evaluate with `evaluate_detections()` again. See using [Dataset Views](https://docs.voxel51.com/user_guide/using_views.html) for full details on matching, filtering, or sorting detections.  "
   ]
  },
  {
   "cell_type": "code",
   "execution_count": 13,
   "metadata": {},
   "outputs": [
    {
     "name": "stdout",
     "output_type": "stream",
     "text": [
      "Dataset:     coco-2017-validation-25\n",
      "Media type:  image\n",
      "Num samples: 25\n",
      "Sample fields:\n",
      "    id:               fiftyone.core.fields.ObjectIdField\n",
      "    filepath:         fiftyone.core.fields.StringField\n",
      "    tags:             fiftyone.core.fields.ListField(fiftyone.core.fields.StringField)\n",
      "    metadata:         fiftyone.core.fields.EmbeddedDocumentField(fiftyone.core.metadata.ImageMetadata)\n",
      "    created_at:       fiftyone.core.fields.DateTimeField\n",
      "    last_modified_at: fiftyone.core.fields.DateTimeField\n",
      "    ground_truth:     fiftyone.core.fields.EmbeddedDocumentField(fiftyone.core.labels.Detections)\n",
      "    det_predictions:  fiftyone.core.fields.EmbeddedDocumentField(fiftyone.core.labels.Detections)\n",
      "    eval_det_tp:      fiftyone.core.fields.IntField\n",
      "    eval_det_fp:      fiftyone.core.fields.IntField\n",
      "    eval_det_fn:      fiftyone.core.fields.IntField\n",
      "View stages:\n",
      "    1. FilterLabels(field='det_predictions', filter={'$gt': ['$$this.confidence', 0.9]}, only_matches=False, trajectories=False)\n"
     ]
    }
   ],
   "source": [
    "from fiftyone import ViewField as F\n",
    "\n",
    "# Only contains detections with confidence >= 0.75\n",
    "high_conf_view = dataset.filter_labels(\"det_predictions\", F(\"confidence\") > 0.90, only_matches=False)\n",
    "\n",
    "# Print some information about the view\n",
    "print(high_conf_view)"
   ]
  },
  {
   "cell_type": "markdown",
   "metadata": {},
   "source": [
    "We can check out our new view in the session before we run evaluation:"
   ]
  },
  {
   "cell_type": "code",
   "execution_count": 14,
   "metadata": {},
   "outputs": [
    {
     "data": {
      "text/html": [
       "\n",
       "        <iframe\n",
       "            width=\"100%\"\n",
       "            height=\"800\"\n",
       "            src=\"http://0.0.0.0:5151/?notebook=True&subscription=9f99856a-9095-4566-9995-940e666224cf&polling=true\"\n",
       "            frameborder=\"0\"\n",
       "            allowfullscreen\n",
       "            \n",
       "        ></iframe>\n",
       "        "
      ],
      "text/plain": [
       "<IPython.lib.display.IFrame at 0x7adf14804250>"
      ]
     },
     "metadata": {},
     "output_type": "display_data"
    }
   ],
   "source": [
    "session.view = high_conf_view"
   ]
  },
  {
   "cell_type": "markdown",
   "metadata": {},
   "source": [
    "Just like before, lets run evaluation. Be sure to change the eval_key to a new name this time!"
   ]
  },
  {
   "cell_type": "code",
   "execution_count": 15,
   "metadata": {},
   "outputs": [
    {
     "name": "stdout",
     "output_type": "stream",
     "text": [
      "Evaluating detections...\n",
      " 100% |███████████████████| 25/25 [364.0ms elapsed, 0s remaining, 68.7 samples/s]      \n",
      "Performing IoU sweep...\n",
      " 100% |███████████████████| 25/25 [324.2ms elapsed, 0s remaining, 77.1 samples/s]      \n",
      "              precision    recall  f1-score   support\n",
      "\n",
      "      person       0.88      0.72      0.79        61\n",
      "        book       1.00      0.06      0.12        16\n",
      "         car       0.86      0.75      0.80         8\n",
      "       chair       1.00      0.62      0.77         8\n",
      "         bus       1.00      0.75      0.86         4\n",
      "        vase       0.50      0.50      0.50         4\n",
      "  teddy bear       1.00      0.67      0.80         3\n",
      "potted plant       0.50      0.67      0.57         3\n",
      "    backpack       0.50      0.67      0.57         3\n",
      "         bed       1.00      0.67      0.80         3\n",
      "\n",
      "   micro avg       0.84      0.61      0.71       113\n",
      "   macro avg       0.82      0.61      0.66       113\n",
      "weighted avg       0.88      0.61      0.68       113\n",
      "\n",
      "0.4652928612092191\n"
     ]
    }
   ],
   "source": [
    "results = high_conf_view.evaluate_detections(\n",
    "    \"det_predictions\",\n",
    "    gt_field=\"ground_truth\",\n",
    "    eval_key=\"eval_high_conf\",\n",
    "    compute_mAP=True,\n",
    ")\n",
    "\n",
    "# Print the same report to see the difference\n",
    "results.print_report(classes=classes_top10)\n",
    "print(results.mAP())"
   ]
  },
  {
   "cell_type": "markdown",
   "metadata": {},
   "source": [
    "## Evaluate for Classification\n",
    "\n",
    "Evaluation is just as easy for classification tasks. Once you have loaded up your dataset and model predictions, you can start with `dataset.evaluate_classifications()`"
   ]
  },
  {
   "cell_type": "code",
   "execution_count": 17,
   "metadata": {},
   "outputs": [
    {
     "name": "stdout",
     "output_type": "stream",
     "text": [
      "Overwriting existing directory '/fiftyone/zoo/datasets/cifar10/test'\n",
      "Downloading split 'test' to '/fiftyone/zoo/datasets/cifar10/test'\n"
     ]
    },
    {
     "name": "stderr",
     "output_type": "stream",
     "text": [
      "100%|██████████| 170M/170M [00:02<00:00, 75.1MB/s] \n"
     ]
    },
    {
     "name": "stdout",
     "output_type": "stream",
     "text": [
      " 100% |█████████████| 10000/10000 [5.4s elapsed, 0s remaining, 1.7K samples/s]      \n",
      "Dataset info written to '/fiftyone/zoo/datasets/cifar10/info.json'\n",
      "Loading existing dataset 'cifar10-test'. To reload from disk, either delete the existing dataset or provide a custom `dataset_name` to use\n"
     ]
    },
    {
     "data": {
      "text/html": [
       "\n",
       "        <iframe\n",
       "            width=\"100%\"\n",
       "            height=\"800\"\n",
       "            src=\"http://0.0.0.0:5151/?notebook=True&subscription=bae6a6be-7ded-492b-abbf-a9c9d5a93a9a&polling=true\"\n",
       "            frameborder=\"0\"\n",
       "            allowfullscreen\n",
       "            \n",
       "        ></iframe>\n",
       "        "
      ],
      "text/plain": [
       "<IPython.lib.display.IFrame at 0x7adf30b828d0>"
      ]
     },
     "metadata": {},
     "output_type": "display_data"
    }
   ],
   "source": [
    "import fiftyone as fo\n",
    "import fiftyone.zoo as foz\n",
    "\n",
    "dataset = foz.load_zoo_dataset(\"cifar10\", split=\"test\", overwrite=True)\n",
    "\n",
    "session = fo.launch_app(dataset)"
   ]
  },
  {
   "cell_type": "markdown",
   "metadata": {},
   "source": [
    "This time, we will use Open AI's CLIP model to do zero-shot classification on our images. We will use the [model zoo](https://docs.voxel51.com/model_zoo/models.html#clip-vit-base32-torch) to load this model:"
   ]
  },
  {
   "cell_type": "code",
   "execution_count": 18,
   "metadata": {},
   "outputs": [
    {
     "name": "stdout",
     "output_type": "stream",
     "text": [
      "Downloading model from 'https://openaipublic.azureedge.net/clip/models/40d365715913c9da98579312b702a82c18be219cc2a73407c4526f58eba950af/ViT-B-32.pt'...\n",
      " 100% |██████|    2.6Gb/2.6Gb [17.3s elapsed, 0s remaining, 231.1Mb/s]      \n",
      "Downloading CLIP tokenizer...\n",
      " 100% |█████|   10.4Mb/10.4Mb [27.3ms elapsed, 0s remaining, 379.1Mb/s]    \n",
      "              precision    recall  f1-score   support\n",
      "\n",
      "    airplane       0.00      0.00      0.00         1\n",
      "        bird       0.00      0.00      0.00         0\n",
      "         cat       1.00      1.00      1.00         1\n",
      "        frog       1.00      1.00      1.00         1\n",
      "        ship       1.00      1.00      1.00         2\n",
      "\n",
      "    accuracy                           0.80         5\n",
      "   macro avg       0.60      0.60      0.60         5\n",
      "weighted avg       0.80      0.80      0.80         5\n",
      "\n"
     ]
    }
   ],
   "source": [
    "import fiftyone.zoo as foz\n",
    "\n",
    "classes = [\"horse\", \"truck\", \"deer\", \"automobile\", \"bird\", \"ship\", \"cat\", \"dog\", \"frog\", \"airplane\"]\n",
    "\n",
    "clip = foz.load_zoo_model(\n",
    "    \"clip-vit-base32-torch\",\n",
    "    classes=classes,\n",
    ")\n",
    "\n",
    "first_5_samples = dataset.limit(5)\n",
    "\n",
    "first_5_samples.apply_model(clip, label_field=\"clip\")\n",
    "\n",
    "results = first_5_samples.evaluate_classifications(\"clip\")\n",
    "\n",
    "# Print the same report to see the difference\n",
    "results.print_report()"
   ]
  },
  {
   "cell_type": "markdown",
   "metadata": {},
   "source": [
    "## Evaluate for Segmentation\n",
    "\n",
    "The last basic form of evaluation we will cover is evaluating segmentations! \n",
    "\n",
    "Once your dataset is prepped and ready with ground_truth and predicted segmentations, you can start evaluation!\n",
    "\n",
    "### Instance Segmentation Example"
   ]
  },
  {
   "cell_type": "markdown",
   "metadata": {},
   "source": [
    "For our example, we will load MSCOCO subset again, but this time with the instance segmentations on it as well:"
   ]
  },
  {
   "cell_type": "code",
   "execution_count": 21,
   "metadata": {},
   "outputs": [
    {
     "name": "stdout",
     "output_type": "stream",
     "text": [
      "Dataset 'coco-2017-validation-25' deleted\n"
     ]
    }
   ],
   "source": [
    "!fiftyone datasets delete coco-2017-validation-25"
   ]
  },
  {
   "cell_type": "code",
   "execution_count": 22,
   "metadata": {},
   "outputs": [
    {
     "name": "stdout",
     "output_type": "stream",
     "text": [
      "Downloading split 'validation' to '/fiftyone/zoo/datasets/coco-2017/validation' if necessary\n",
      "Found annotations at '/fiftyone/zoo/datasets/coco-2017/raw/instances_val2017.json'\n"
     ]
    },
    {
     "name": "stdout",
     "output_type": "stream",
     "text": [
      "Sufficient images already downloaded\n",
      "Existing download of split 'validation' is sufficient\n",
      "Loading 'coco-2017' split 'validation'\n",
      "Dataset 'coco-2017-validation-25' created\n"
     ]
    },
    {
     "data": {
      "text/html": [
       "\n",
       "        <iframe\n",
       "            width=\"100%\"\n",
       "            height=\"800\"\n",
       "            src=\"http://0.0.0.0:5151/?notebook=True&subscription=81949a34-7ddd-4de7-b719-e639590306e8&polling=true\"\n",
       "            frameborder=\"0\"\n",
       "            allowfullscreen\n",
       "            \n",
       "        ></iframe>\n",
       "        "
      ],
      "text/plain": [
       "<IPython.lib.display.IFrame at 0x7ae02c7a1e90>"
      ]
     },
     "metadata": {},
     "output_type": "display_data"
    }
   ],
   "source": [
    "dataset = foz.load_zoo_dataset(\n",
    "    \"coco-2017\",\n",
    "    split=\"validation\",\n",
    "    label_types=[\"segmentations\"],\n",
    "    max_samples=25,\n",
    ")\n",
    "\n",
    "session.dataset = dataset"
   ]
  },
  {
   "cell_type": "markdown",
   "metadata": {},
   "source": [
    "In order to evaluate, we need to add some predicted instance segmentations on our dataset. A light weight and easy to use model is [Ultralytics YOLO-11-seg](https://docs.ultralytics.com/models/yolo11/). This model was trained on MSCOCO and should perform well. It is also easy to use any Ultralytics model using our [integration](https://docs.voxel51.com/integrations/ultralytics.html) with them!"
   ]
  },
  {
   "cell_type": "code",
   "execution_count": 23,
   "metadata": {},
   "outputs": [
    {
     "name": "stderr",
     "output_type": "stream",
     "text": [
      "/opt/.fiftyone-venv/lib/python3.11/site-packages/transformers/utils/deprecation.py:172: UserWarning: The following named arguments are not valid for `Mask2FormerImageProcessor.__init__` and were ignored: '_max_size'\n",
      "  return func(*args, **kwargs)\n"
     ]
    }
   ],
   "source": [
    "from transformers import Mask2FormerForUniversalSegmentation\n",
    "model = Mask2FormerForUniversalSegmentation.from_pretrained(\n",
    "    \"facebook/mask2former-swin-small-coco-instance\"\n",
    ")\n",
    "# Apply the model to the dataset and save predicted instance segmentations as \"instances\"\n",
    "dataset.apply_model(model, label_field=\"semantic\")"
   ]
  },
  {
   "cell_type": "markdown",
   "metadata": {},
   "source": [
    "### Semantic Segmentation Evaluation\n",
    "\n",
    "Now let's look at an example of semantic segmentation. We can easily convert our instance segmentation dataset to semantic masks using [`to_segmentation()`](https://docs.voxel51.com/api/fiftyone.core.labels.html#fiftyone.core.labels.Detections.to_segmentation). After we convert our `ground_truth` and `instances` fields, we can evaluate our new masks! Let's convert now:"
   ]
  },
  {
   "cell_type": "code",
   "execution_count": 24,
   "metadata": {},
   "outputs": [],
   "source": [
    "dataset.compute_metadata()\n",
    "for sample in dataset:\n",
    "\n",
    "    detections = sample[\"ground_truth\"]\n",
    "    segmentation = detections.to_segmentation(\n",
    "        frame_size=(sample.metadata.width, sample.metadata.height),\n",
    "        mask_targets=model.config.id2label,\n",
    "    )\n",
    "    sample[\"gt_semantic\"] = segmentation\n",
    "    sample.save()"
   ]
  },
  {
   "cell_type": "markdown",
   "metadata": {},
   "source": [
    "Finally, we can evaluate our semantic segmentations with `dataset.evaluate_segmentations()`:"
   ]
  },
  {
   "cell_type": "code",
   "execution_count": null,
   "metadata": {},
   "outputs": [
    {
     "name": "stdout",
     "output_type": "stream",
     "text": [
      "Computing possible mask values...\n",
      " 100% |███████████████████| 25/25 [638.8ms elapsed, 0s remaining, 39.1 samples/s]      \n",
      "Evaluating segmentations...\n",
      "   8% |█/-----------------|  2/25 [123.7ms elapsed, 1.4s remaining, 16.2 samples/s] "
     ]
    },
    {
     "name": "stderr",
     "output_type": "stream",
     "text": [
      "/Users/dangural/anaconda3/envs/tcv/lib/python3.11/site-packages/fiftyone/utils/eval/segmentation.py:650: UserWarning: Resizing predicted mask with shape (426, 640) to match ground truth mask with shape (640, 426)\n",
      "  warnings.warn(msg)\n",
      "/Users/dangural/anaconda3/envs/tcv/lib/python3.11/site-packages/fiftyone/utils/eval/segmentation.py:650: UserWarning: Resizing predicted mask with shape (640, 586) to match ground truth mask with shape (586, 640)\n",
      "  warnings.warn(msg)\n",
      "/Users/dangural/anaconda3/envs/tcv/lib/python3.11/site-packages/fiftyone/utils/eval/segmentation.py:650: UserWarning: Resizing predicted mask with shape (483, 640) to match ground truth mask with shape (640, 483)\n",
      "  warnings.warn(msg)\n",
      "/Users/dangural/anaconda3/envs/tcv/lib/python3.11/site-packages/fiftyone/utils/eval/segmentation.py:650: UserWarning: Resizing predicted mask with shape (500, 375) to match ground truth mask with shape (375, 500)\n",
      "  warnings.warn(msg)\n"
     ]
    },
    {
     "name": "stdout",
     "output_type": "stream",
     "text": [
      "  28% |█████\\-------------|  7/25 [376.0ms elapsed, 966.9ms remaining, 18.6 samples/s] "
     ]
    },
    {
     "name": "stderr",
     "output_type": "stream",
     "text": [
      "/Users/dangural/anaconda3/envs/tcv/lib/python3.11/site-packages/fiftyone/utils/eval/segmentation.py:650: UserWarning: Resizing predicted mask with shape (640, 428) to match ground truth mask with shape (428, 640)\n",
      "  warnings.warn(msg)\n",
      "/Users/dangural/anaconda3/envs/tcv/lib/python3.11/site-packages/fiftyone/utils/eval/segmentation.py:650: UserWarning: Resizing predicted mask with shape (425, 640) to match ground truth mask with shape (640, 425)\n",
      "  warnings.warn(msg)\n",
      "/Users/dangural/anaconda3/envs/tcv/lib/python3.11/site-packages/fiftyone/utils/eval/segmentation.py:650: UserWarning: Resizing predicted mask with shape (640, 424) to match ground truth mask with shape (424, 640)\n",
      "  warnings.warn(msg)\n",
      "/Users/dangural/anaconda3/envs/tcv/lib/python3.11/site-packages/fiftyone/utils/eval/segmentation.py:650: UserWarning: Resizing predicted mask with shape (640, 621) to match ground truth mask with shape (621, 640)\n",
      "  warnings.warn(msg)\n"
     ]
    },
    {
     "name": "stdout",
     "output_type": "stream",
     "text": [
      "  44% |████████/----------| 11/25 [616.2ms elapsed, 784.3ms remaining, 17.9 samples/s] "
     ]
    },
    {
     "name": "stderr",
     "output_type": "stream",
     "text": [
      "/Users/dangural/anaconda3/envs/tcv/lib/python3.11/site-packages/fiftyone/utils/eval/segmentation.py:650: UserWarning: Resizing predicted mask with shape (427, 640) to match ground truth mask with shape (640, 427)\n",
      "  warnings.warn(msg)\n",
      "/Users/dangural/anaconda3/envs/tcv/lib/python3.11/site-packages/fiftyone/utils/eval/segmentation.py:650: UserWarning: Resizing predicted mask with shape (480, 640) to match ground truth mask with shape (640, 480)\n",
      "  warnings.warn(msg)\n",
      "/Users/dangural/anaconda3/envs/tcv/lib/python3.11/site-packages/fiftyone/utils/eval/segmentation.py:650: UserWarning: Resizing predicted mask with shape (427, 640) to match ground truth mask with shape (640, 427)\n",
      "  warnings.warn(msg)\n",
      "/Users/dangural/anaconda3/envs/tcv/lib/python3.11/site-packages/fiftyone/utils/eval/segmentation.py:650: UserWarning: Resizing predicted mask with shape (640, 427) to match ground truth mask with shape (427, 640)\n",
      "  warnings.warn(msg)\n"
     ]
    },
    {
     "name": "stdout",
     "output_type": "stream",
     "text": [
      "  56% |██████████---------| 14/25 [766.9ms elapsed, 602.6ms remaining, 18.3 samples/s] "
     ]
    },
    {
     "name": "stderr",
     "output_type": "stream",
     "text": [
      "/Users/dangural/anaconda3/envs/tcv/lib/python3.11/site-packages/fiftyone/utils/eval/segmentation.py:650: UserWarning: Resizing predicted mask with shape (500, 375) to match ground truth mask with shape (375, 500)\n",
      "  warnings.warn(msg)\n",
      "/Users/dangural/anaconda3/envs/tcv/lib/python3.11/site-packages/fiftyone/utils/eval/segmentation.py:650: UserWarning: Resizing predicted mask with shape (512, 640) to match ground truth mask with shape (640, 512)\n",
      "  warnings.warn(msg)\n",
      "/Users/dangural/anaconda3/envs/tcv/lib/python3.11/site-packages/fiftyone/utils/eval/segmentation.py:650: UserWarning: Resizing predicted mask with shape (315, 640) to match ground truth mask with shape (640, 315)\n",
      "  warnings.warn(msg)\n",
      "/Users/dangural/anaconda3/envs/tcv/lib/python3.11/site-packages/fiftyone/utils/eval/segmentation.py:650: UserWarning: Resizing predicted mask with shape (240, 320) to match ground truth mask with shape (320, 240)\n",
      "  warnings.warn(msg)\n",
      "/Users/dangural/anaconda3/envs/tcv/lib/python3.11/site-packages/fiftyone/utils/eval/segmentation.py:650: UserWarning: Resizing predicted mask with shape (480, 640) to match ground truth mask with shape (640, 480)\n",
      "  warnings.warn(msg)\n"
     ]
    },
    {
     "name": "stdout",
     "output_type": "stream",
     "text": [
      "  84% |███████████████/---| 21/25 [1.1s elapsed, 210.4ms remaining, 19.0 samples/s]    "
     ]
    },
    {
     "name": "stderr",
     "output_type": "stream",
     "text": [
      "/Users/dangural/anaconda3/envs/tcv/lib/python3.11/site-packages/fiftyone/utils/eval/segmentation.py:650: UserWarning: Resizing predicted mask with shape (480, 640) to match ground truth mask with shape (640, 480)\n",
      "  warnings.warn(msg)\n",
      "/Users/dangural/anaconda3/envs/tcv/lib/python3.11/site-packages/fiftyone/utils/eval/segmentation.py:650: UserWarning: Resizing predicted mask with shape (640, 427) to match ground truth mask with shape (427, 640)\n",
      "  warnings.warn(msg)\n",
      "/Users/dangural/anaconda3/envs/tcv/lib/python3.11/site-packages/fiftyone/utils/eval/segmentation.py:650: UserWarning: Resizing predicted mask with shape (425, 640) to match ground truth mask with shape (640, 425)\n",
      "  warnings.warn(msg)\n",
      "/Users/dangural/anaconda3/envs/tcv/lib/python3.11/site-packages/fiftyone/utils/eval/segmentation.py:650: UserWarning: Resizing predicted mask with shape (419, 640) to match ground truth mask with shape (640, 419)\n",
      "  warnings.warn(msg)\n"
     ]
    },
    {
     "name": "stdout",
     "output_type": "stream",
     "text": [
      " 100% |███████████████████| 25/25 [1.4s elapsed, 0s remaining, 18.5 samples/s]         \n"
     ]
    },
    {
     "name": "stderr",
     "output_type": "stream",
     "text": [
      "/Users/dangural/anaconda3/envs/tcv/lib/python3.11/site-packages/fiftyone/utils/eval/segmentation.py:650: UserWarning: Resizing predicted mask with shape (480, 640) to match ground truth mask with shape (640, 480)\n",
      "  warnings.warn(msg)\n",
      "/Users/dangural/anaconda3/envs/tcv/lib/python3.11/site-packages/fiftyone/utils/eval/segmentation.py:650: UserWarning: Resizing predicted mask with shape (427, 640) to match ground truth mask with shape (640, 427)\n",
      "  warnings.warn(msg)\n",
      "/Users/dangural/anaconda3/envs/tcv/lib/python3.11/site-packages/fiftyone/utils/eval/segmentation.py:650: UserWarning: Resizing predicted mask with shape (480, 640) to match ground truth mask with shape (640, 480)\n",
      "  warnings.warn(msg)\n"
     ]
    },
    {
     "name": "stdout",
     "output_type": "stream",
     "text": [
      "              precision    recall  f1-score   support\n",
      "\n",
      "           2       0.44      0.62      0.51   27098.0\n",
      "           4       0.00      0.00      0.00   11183.0\n",
      "           5       1.00      0.34      0.51  932320.0\n",
      "           6       0.00      0.00      0.00   76013.0\n",
      "           7       0.64      0.00      0.00  440363.0\n",
      "           8       1.00      0.12      0.21   41269.0\n",
      "           9       1.00      0.19      0.32    2332.0\n",
      "          11       0.99      0.11      0.19  151804.0\n",
      "          13       0.00      0.00      0.00    7532.0\n",
      "          14       0.96      0.57      0.71    1866.0\n",
      "          15       1.00      0.92      0.96  156333.0\n",
      "          21       1.00      0.74      0.85  375040.0\n",
      "          22       1.00      0.77      0.87  272000.0\n",
      "          24       0.20      0.11      0.14    2729.0\n",
      "          25       0.00      0.00      0.00    1655.0\n",
      "          26       0.89      0.66      0.75   18416.0\n",
      "          27       0.00      0.00      0.00       0.0\n",
      "          30       0.89      0.46      0.61    7389.0\n",
      "          32       0.00      0.00      0.00    1593.0\n",
      "          34       0.75      0.22      0.34    1543.0\n",
      "          35       0.88      0.07      0.12   18393.0\n",
      "          37       1.00      0.02      0.04   50028.0\n",
      "          38       0.42      0.81      0.56    2158.0\n",
      "          39       0.00      0.00      0.00    2555.0\n",
      "          40       0.00      0.00      0.00     785.0\n",
      "          41       0.00      0.00      0.00    1528.0\n",
      "          44       0.00      0.00      0.00    1656.0\n",
      "          45       0.33      0.85      0.48   69804.0\n",
      "          47       1.00      0.25      0.40  157044.0\n",
      "          48       0.90      0.97      0.93   57299.0\n",
      "          56       0.88      0.11      0.20  176561.0\n",
      "          57       0.00      0.00      0.00   11894.0\n",
      "          58       0.00      0.00      0.00   35131.0\n",
      "          59       0.91      0.27      0.42  465225.0\n",
      "          60       0.00      0.00      0.00  351498.0\n",
      "          61       0.00      0.00      0.00     648.0\n",
      "          62       0.00      0.00      0.00  140736.0\n",
      "          63       0.81      0.07      0.12  125553.0\n",
      "          64       0.74      0.92      0.82     563.0\n",
      "          65       0.00      0.00      0.00     264.0\n",
      "          66       0.70      0.87      0.77   38981.0\n",
      "          67       0.46      0.81      0.58    4280.0\n",
      "          68       0.00      0.00      0.00       0.0\n",
      "          69       1.00      0.35      0.52   73965.0\n",
      "          71       0.00      0.00      0.00    2472.0\n",
      "          72       1.00      0.24      0.38  227056.0\n",
      "          73       0.92      0.38      0.54   56016.0\n",
      "          74       0.99      0.29      0.44     785.0\n",
      "          75       0.86      0.37      0.52    6050.0\n",
      "          76       0.00      0.00      0.00    1167.0\n",
      "          77       1.00      0.93      0.96  245837.0\n",
      "\n",
      "   micro avg       0.89      0.35      0.50 4854410.0\n",
      "   macro avg       0.52      0.28      0.31 4854410.0\n",
      "weighted avg       0.79      0.35      0.43 4854410.0\n",
      "\n"
     ]
    }
   ],
   "source": [
    "results = dataset.evaluate_segmentations(\"gt_semantic\", \"semantic\", eval_key=\"seg_eval\")\n",
    "results.print_report()"
   ]
  },
  {
   "cell_type": "markdown",
   "metadata": {},
   "source": [
    "## Conclusion\n",
    "\n",
    "This covers the basic of model eval in FiftyOne. In the next step, we will learn how to dive even deeper with the [Model Evaluation Panel](https://docs.voxel51.com/user_guide/evaluation.html#model-evaluation-panel-sub-new), a interactive tool that allows you find exactly where your model is doing the best and the worst all in the FiftyOne app. Learn more by continuing!"
   ]
  }
 ],
 "metadata": {
  "kernelspec": {
   "display_name": ".fiftyone-venv",
   "language": "python",
   "name": "python3"
  },
  "language_info": {
   "codemirror_mode": {
    "name": "ipython",
    "version": 3
   },
   "file_extension": ".py",
   "mimetype": "text/x-python",
   "name": "python",
   "nbconvert_exporter": "python",
   "pygments_lexer": "ipython3",
   "version": "3.11.12"
  }
 },
 "nbformat": 4,
 "nbformat_minor": 2
}
